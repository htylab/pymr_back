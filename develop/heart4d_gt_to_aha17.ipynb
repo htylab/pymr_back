{
 "cells": [
  {
   "cell_type": "code",
   "execution_count": 3,
   "metadata": {},
   "outputs": [],
   "source": [
    "import sys\n",
    "sys.path.insert(0, '..')"
   ]
  },
  {
   "cell_type": "code",
   "execution_count": 4,
   "metadata": {},
   "outputs": [],
   "source": [
    "from scipy.io import loadmat\n",
    "from os.path import basename\n",
    "import numpy as np\n",
    "from scipy import ndimage"
   ]
  },
  {
   "cell_type": "code",
   "execution_count": 14,
   "metadata": {},
   "outputs": [],
   "source": [
    "import nibabel"
   ]
  },
  {
   "cell_type": "code",
   "execution_count": 17,
   "metadata": {},
   "outputs": [],
   "source": [
    "heart = nibabel.load(r\"C:\\TudoCD\\OpenDataset2\\A0S9V9\\A0S9V9_sa_gt.nii.gz\").get_fdata()"
   ]
  },
  {
   "cell_type": "code",
   "execution_count": 18,
   "metadata": {},
   "outputs": [
    {
     "data": {
      "text/plain": [
       "(216, 256, 13, 25)"
      ]
     },
     "execution_count": 18,
     "metadata": {},
     "output_type": "execute_result"
    }
   ],
   "source": [
    "heart.shape"
   ]
  },
  {
   "cell_type": "code",
   "execution_count": 234,
   "metadata": {},
   "outputs": [],
   "source": [
    "def get_slice_label(heart4d):\n",
    "    heart = heart4d.copy()\n",
    "    curve3 = np.sum(heart==3, axis=(0, 1, 3))\n",
    "    curve2 = np.sum(heart==2, axis=(0, 1, 3))\n",
    "    curve1 = np.sum(heart==1, axis=(0, 1, 3))\n",
    "\n",
    "    curve_and = (curve3 > 0) & (curve2 > 0) & (curve1 > 0)\n",
    "    curve_or = (curve3 > 0) | (curve2 > 0) | (curve1 > 0)\n",
    "    curve_and = curve_and.astype(np.int)\n",
    "    curve_or = curve_or.astype(np.int)\n",
    "    curve_diff = curve_or-curve_and\n",
    "    slice_label = curve_and * 0\n",
    "    curve_apex = curve_diff.copy()\n",
    "    curve_apex[:curve_apex.size//2] = 0\n",
    "    curve_basal = curve_diff.copy()\n",
    "    curve_basal[curve_apex.size//2:] = 0\n",
    "    #curve_apex = curve_apex * 4\n",
    "    \n",
    "    loc = dict()\n",
    "    if np.sum(curve_apex) > 0:\n",
    "        #got_apex = True    \n",
    "        loc[3] = [1]*1 + [2]*1 + [3]*1\n",
    "        loc[4] = [1]*1 + [2]*2 + [3]*1\n",
    "        loc[5] = [1]*2 + [2]*2 + [3]*1\n",
    "        loc[6] = [1]*2 + [2]*2 + [3]*2\n",
    "        loc[7] = [1]*2 + [2]*3 + [3]*2\n",
    "        loc[8] = [1]*3 + [2]*3 + [3]*2\n",
    "        loc[9] = [1]*3 + [2]*3 + [3]*3\n",
    "        loc[10] = [1]*3 + [2]*4 + [3]*3\n",
    "        loc[11] = [1]*4 + [2]*4 + [3]*3\n",
    "        loc[12] = [1]*4 + [2]*4 + [3]*4\n",
    "        loc[13] = [1]*4 + [2]*5 + [3]*4\n",
    "        loc[14] = [1]*5 + [2]*5 + [3]*4\n",
    "        loc[15] = [1]*5 + [2]*5 + [3]*5\n",
    "    else:\n",
    "        loc[3] = [1]*1 + [2]*1 + [3]*1\n",
    "        loc[4] = [1]*1 + [2]*1 + [3]*1 + [4]*1\n",
    "        loc[5] = [1]*1 + [2]*2 + [3]*1 + [4]*1\n",
    "        loc[6] = [1]*2 + [2]*2 + [3]*1 + [4]*1\n",
    "        loc[7] = [1]*2 + [2]*2 + [3]*2 + [4]*1\n",
    "        loc[8] = [1]*2 + [2]*3 + [3]*2 + [4]*1\n",
    "        loc[9] = [1]*3 + [2]*3 + [3]*2 + [4]*1\n",
    "        loc[10] = [1]*3 + [2]*3 + [3]*3 + [4]*1\n",
    "        loc[11] = [1]*3 + [2]*3 + [3]*3 + [4]*2\n",
    "        loc[12] = [1]*3 + [2]*4 + [3]*3 + [4]*2\n",
    "        loc[13] = [1]*4 + [2]*4 + [3]*3 + [4]*2\n",
    "        loc[14] = [1]*4 + [2]*4 + [3]*4 + [4]*2\n",
    "        loc[15] = [1]*4 + [2]*4 + [3]*4 + [4]*3\n",
    "        \n",
    "    slice_label[curve_and > 0] = loc[np.sum(curve_and)]\n",
    "    slice_label[curve_apex > 0] = 4\n",
    "    slice_label[curve_basal > 0] = 5\n",
    "    return slice_label\n"
   ]
  },
  {
   "cell_type": "code",
   "execution_count": 260,
   "metadata": {},
   "outputs": [
    {
     "name": "stdout",
     "output_type": "stream",
     "text": [
      "[0 0 5 1 1 1 2 2 2 3 3 4 4]\n"
     ]
    }
   ],
   "source": [
    "slice_label = get_slice_label(heart)\n",
    "print(slice_label)\n",
    "offset = dict()\n",
    "offset[1] = 0\n",
    "offset[2] = 6\n",
    "offset[3] = 12\n",
    "\n",
    "count = -1\n",
    "heart_aha17_4d = heart  * 0\n",
    "for ii in range(slice_label.size):\n",
    "    #print(slice_label[ii])\n",
    "    count = count + 1\n",
    "    if (slice_label[ii] == 0) or (slice_label[ii] == 5):\n",
    "        continue\n",
    "        \n",
    "    if slice_label[ii] == 4:\n",
    "        temp = heart[:, :, ii, :].copy()\n",
    "        temp[temp==2] = 17\n",
    "        temp[temp==1] = 0\n",
    "        temp[temp==3] = 0\n",
    "        heart_aha17_4d[:, :, ii, :] = temp\n",
    "        \n",
    "\n",
    "    heart_xyt = heart[:, :, ii, :].copy()\n",
    "    \n",
    "    curve = np.sum(heart_xyt, axis=(0, 1))\n",
    "    dia_frame = np.argmax(curve)\n",
    "    curve[curve==0] = 1e20\n",
    "    sys_frame = np.argmin(curve)\n",
    "    #print(dia_frame, sys_frame)\n",
    "    heart_xy_dia = heart_xyt[..., dia_frame]\n",
    "    heart_xy_sys = heart_xyt[..., sys_frame]\n",
    "    if slice_label[ii] == 3:\n",
    "        nseg = 4\n",
    "    else:\n",
    "        nseg = 6\n",
    "    \n",
    "    if (np.sum(heart_xy_dia==3)) == 0 or (np.sum(heart_xy_sys==3) == 0):\n",
    "        slice_label[ii] = 5\n",
    "        continue\n",
    "        \n",
    "        \n",
    "    dia_seg = ahaseg.get_seg((heart_xy_dia==1, heart_xy_dia==2, heart_xy_dia==3), nseg)\n",
    "    sys_seg = ahaseg.get_seg((heart_xy_sys==1, heart_xy_sys==2, heart_xy_sys==3), nseg)\n",
    "    \n",
    "    dia_seg[dia_seg > 0] = dia_seg[dia_seg > 0] + offset[slice_label[ii]]\n",
    "    sys_seg[sys_seg > 0] = sys_seg[sys_seg > 0] + offset[slice_label[ii]]\n",
    "    \n",
    "    heart_aha17_4d[:, :, ii, dia_frame] = dia_seg\n",
    "    heart_aha17_4d[:, :, ii, sys_frame] = sys_seg\n"
   ]
  },
  {
   "cell_type": "code",
   "execution_count": 263,
   "metadata": {},
   "outputs": [
    {
     "data": {
      "text/plain": [
       "<matplotlib.colorbar.Colorbar at 0x247d8ff2ef0>"
      ]
     },
     "execution_count": 263,
     "metadata": {},
     "output_type": "execute_result"
    },
    {
     "data": {
      "image/png": "[encoded data removed]",
      "text/plain": [
       "<Figure size 432x288 with 2 Axes>"
      ]
     },
     "metadata": {},
     "output_type": "display_data"
    },
    {
     "data": {
      "image/png": "[encoded data removed]",
      "text/plain": [
       "<Figure size 432x288 with 2 Axes>"
      ]
     },
     "metadata": {},
     "output_type": "display_data"
    },
    {
     "data": {
      "image/png": "[encoded data removed]",
      "text/plain": [
       "<Figure size 432x288 with 2 Axes>"
      ]
     },
     "metadata": {},
     "output_type": "display_data"
    },
    {
     "data": {
      "image/png": "[encoded data removed]",
      "text/plain": [
       "<Figure size 432x288 with 2 Axes>"
      ]
     },
     "metadata": {},
     "output_type": "display_data"
    }
   ],
   "source": [
    "plt.figure()\n",
    "plt.imshow(heart_aha17_4d[:, :, 5, dia_frame], vmin=0, vmax=17)\n",
    "plt.colorbar()\n",
    "plt.figure()\n",
    "plt.imshow(heart_aha17_4d[:, :, 8, dia_frame], vmin=0, vmax=17)\n",
    "plt.colorbar()\n",
    "plt.figure()\n",
    "plt.imshow(heart_aha17_4d[:, :, 10, dia_frame], vmin=0, vmax=17)\n",
    "plt.colorbar()\n",
    "\n",
    "plt.figure()\n",
    "plt.imshow(heart_aha17_4d[:, :, 11, dia_frame], vmin=0, vmax=17)\n",
    "plt.colorbar()"
   ]
  },
  {
   "cell_type": "code",
   "execution_count": null,
   "metadata": {},
   "outputs": [],
   "source": []
  }
 ],
 "metadata": {
  "kernelspec": {
   "display_name": "Python 3",
   "language": "python",
   "name": "python3"
  },
  "language_info": {
   "codemirror_mode": {
    "name": "ipython",
    "version": 3
   },
   "file_extension": ".py",
   "mimetype": "text/x-python",
   "name": "python",
   "nbconvert_exporter": "python",
   "pygments_lexer": "ipython3",
   "version": "3.6.4"
  }
 },
 "nbformat": 4,
 "nbformat_minor": 2
}
