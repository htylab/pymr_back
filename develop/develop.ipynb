{
 "cells": [
  {
   "cell_type": "code",
   "execution_count": 1,
   "metadata": {},
   "outputs": [],
   "source": [
    "import sys\n",
    "sys.path.insert(0, '..')"
   ]
  },
  {
   "cell_type": "code",
   "execution_count": 3,
   "metadata": {},
   "outputs": [],
   "source": [
    "from pymr import heart as pyheart\n",
    "import numpy as np\n",
    "import nibabel\n",
    "\n",
    "heart = nibabel.load(r\"test_gt.nii.gz\").get_fdata()\n"
   ]
  },
  {
   "cell_type": "code",
   "execution_count": null,
   "metadata": {},
   "outputs": [],
   "source": [
    "def get_frame(heart_mask):\n",
    "    if heart_mask.shape.size == 3: #xyt\n",
    "        curve = np.sum(heart_mask==1, axis=(0, 1))\n",
    "    elif heart_mask.shape.size == 4: #xyzt\n",
    "        curve = np.sum(heart_mask==1, axis=(0, 1, 2))\n",
    "    else:\n",
    "        sys_frame = -1\n",
    "        dia_frame = -1\n",
    "        return sys_frame, dia_frame\n",
    "\n",
    "    curve = curve.astype(np.float)\n",
    "    dia_frame = np.argmax(curve)\n",
    "    curve[curve==0] = 1e20\n",
    "    sys_frame = np.argmin(curve)\n",
    "\n",
    "    return sys_frame, dia_frame"
   ]
  },
  {
   "cell_type": "code",
   "execution_count": null,
   "metadata": {},
   "outputs": [],
   "source": [
    "%matplotlib inline\n",
    "from scipy.io import loadmat\n",
    "from os.path import basename\n",
    "import numpy as np\n",
    "from scipy import ndimage\n",
    "import matplotlib.pyplot as plt\n",
    "from pymr.heart import ahaseg"
   ]
  },
  {
   "cell_type": "code",
   "execution_count": null,
   "metadata": {},
   "outputs": [],
   "source": []
  },
  {
   "cell_type": "code",
   "execution_count": null,
   "metadata": {},
   "outputs": [],
   "source": [
    "from .heart.cine import convert"
   ]
  },
  {
   "cell_type": "code",
   "execution_count": null,
   "metadata": {},
   "outputs": [],
   "source": [
    "curve = np.sum(heart==1, axis=(0, 1, 2))\n",
    "dia_frame = np.argmax(curve)\n",
    "curve[curve==0] = 1e8\n",
    "sys_frame = np.argmin(curve)"
   ]
  },
  {
   "cell_type": "code",
   "execution_count": null,
   "metadata": {},
   "outputs": [],
   "source": [
    "#step 1: collect dia_frame and sys_frame\n",
    "curve = np.sum(heart, axis=(0, 1, 2))\n",
    "dia_frame = np.argmax(curve)\n",
    "curve[curve==0] = 1e8\n",
    "sys_frame = np.argmin(curve)\n",
    "\n",
    "#step 2: \n"
   ]
  },
  {
   "cell_type": "code",
   "execution_count": null,
   "metadata": {},
   "outputs": [],
   "source": [
    "def get_slice_label(heart4d):\n",
    "    heart = heart4d.copy()\n",
    "    curve3 = np.sum(heart==3, axis=(0, 1, 3))\n",
    "    curve2 = np.sum(heart==2, axis=(0, 1, 3))\n",
    "    curve1 = np.sum(heart==1, axis=(0, 1, 3))\n",
    "\n",
    "    curve_and = (curve3 > 0) & (curve2 > 0) & (curve1 > 0)\n",
    "    curve_or = (curve3 > 0) | (curve2 > 0) | (curve1 > 0)\n",
    "    curve_and = curve_and.astype(np.int)\n",
    "    curve_or = curve_or.astype(np.int)\n",
    "    curve_diff = curve_or-curve_and\n",
    "    slice_label = curve_and * 0\n",
    "    curve_apex = curve_diff.copy()\n",
    "    curve_apex[:curve_apex.size//2] = 0\n",
    "    curve_basal = curve_diff.copy()\n",
    "    curve_basal[curve_apex.size//2:] = 0\n",
    "    #curve_apex = curve_apex * 4\n",
    "    \n",
    "    loc = dict()\n",
    "    if np.sum(curve_apex) > 0:\n",
    "        #got_apex = True    \n",
    "        loc[3] = [1]*1 + [2]*1 + [3]*1\n",
    "        loc[4] = [1]*1 + [2]*2 + [3]*1\n",
    "        loc[5] = [1]*2 + [2]*2 + [3]*1\n",
    "        loc[6] = [1]*2 + [2]*2 + [3]*2\n",
    "        loc[7] = [1]*2 + [2]*3 + [3]*2\n",
    "        loc[8] = [1]*3 + [2]*3 + [3]*2\n",
    "        loc[9] = [1]*3 + [2]*3 + [3]*3\n",
    "        loc[10] = [1]*3 + [2]*4 + [3]*3\n",
    "        loc[11] = [1]*4 + [2]*4 + [3]*3\n",
    "        loc[12] = [1]*4 + [2]*4 + [3]*4\n",
    "        loc[13] = [1]*4 + [2]*5 + [3]*4\n",
    "        loc[14] = [1]*5 + [2]*5 + [3]*4\n",
    "        loc[15] = [1]*5 + [2]*5 + [3]*5\n",
    "    else:\n",
    "        loc[3] = [1]*1 + [2]*1 + [3]*1\n",
    "        loc[4] = [1]*1 + [2]*1 + [3]*1 + [4]*1\n",
    "        loc[5] = [1]*1 + [2]*2 + [3]*1 + [4]*1\n",
    "        loc[6] = [1]*2 + [2]*2 + [3]*1 + [4]*1\n",
    "        loc[7] = [1]*2 + [2]*2 + [3]*2 + [4]*1\n",
    "        loc[8] = [1]*2 + [2]*3 + [3]*2 + [4]*1\n",
    "        loc[9] = [1]*3 + [2]*3 + [3]*2 + [4]*1\n",
    "        loc[10] = [1]*3 + [2]*3 + [3]*3 + [4]*1\n",
    "        loc[11] = [1]*3 + [2]*3 + [3]*3 + [4]*2\n",
    "        loc[12] = [1]*3 + [2]*4 + [3]*3 + [4]*2\n",
    "        loc[13] = [1]*4 + [2]*4 + [3]*3 + [4]*2\n",
    "        loc[14] = [1]*4 + [2]*4 + [3]*4 + [4]*2\n",
    "        loc[15] = [1]*4 + [2]*4 + [3]*4 + [4]*3\n",
    "        \n",
    "    slice_label[curve_and > 0] = loc[np.sum(curve_and)]\n",
    "    slice_label[curve_apex > 0] = 4\n",
    "    slice_label[curve_basal > 0] = 5\n",
    "    return slice_label\n"
   ]
  },
  {
   "cell_type": "code",
   "execution_count": null,
   "metadata": {},
   "outputs": [],
   "source": [
    "slice_label = get_slice_label(heart)\n",
    "print(slice_label)\n",
    "offset = dict()\n",
    "offset[1] = 0\n",
    "offset[2] = 6\n",
    "offset[3] = 12\n",
    "\n",
    "count = -1\n",
    "heart_aha17_4d = heart  * 0\n",
    "for ii in range(slice_label.size):\n",
    "    #print(slice_label[ii])\n",
    "    count = count + 1\n",
    "    if (slice_label[ii] == 0) or (slice_label[ii] == 5):\n",
    "        continue\n",
    "        \n",
    "    if slice_label[ii] == 4:\n",
    "        temp = heart[:, :, ii, :].copy()\n",
    "        temp[temp==2] = 17\n",
    "        temp[temp==1] = 0\n",
    "        temp[temp==3] = 0\n",
    "        heart_aha17_4d[:, :, ii, :] = temp\n",
    "        \n",
    "\n",
    "    heart_xyt = heart[:, :, ii, :].copy()\n",
    "    \n",
    "    curve = np.sum(heart_xyt, axis=(0, 1))\n",
    "    dia_frame = np.argmax(curve)\n",
    "    curve[curve==0] = 1e20\n",
    "    sys_frame = np.argmin(curve)\n",
    "    #print(dia_frame, sys_frame)\n",
    "    heart_xy_dia = heart_xyt[..., dia_frame]\n",
    "    heart_xy_sys = heart_xyt[..., sys_frame]\n",
    "    if slice_label[ii] == 3:\n",
    "        nseg = 4\n",
    "    else:\n",
    "        nseg = 6\n",
    "    \n",
    "    if (np.sum(heart_xy_dia==3)) == 0 or (np.sum(heart_xy_sys==3) == 0):\n",
    "        slice_label[ii] = 5\n",
    "        continue\n",
    "        \n",
    "        \n",
    "    dia_seg = ahaseg.get_seg((heart_xy_dia==1, heart_xy_dia==2, heart_xy_dia==3), nseg)\n",
    "    sys_seg = ahaseg.get_seg((heart_xy_sys==1, heart_xy_sys==2, heart_xy_sys==3), nseg)\n",
    "    \n",
    "    dia_seg[dia_seg > 0] = dia_seg[dia_seg > 0] + offset[slice_label[ii]]\n",
    "    sys_seg[sys_seg > 0] = sys_seg[sys_seg > 0] + offset[slice_label[ii]]\n",
    "    \n",
    "    heart_aha17_4d[:, :, ii, dia_frame] = dia_seg\n",
    "    heart_aha17_4d[:, :, ii, sys_frame] = sys_seg\n"
   ]
  },
  {
   "cell_type": "code",
   "execution_count": null,
   "metadata": {},
   "outputs": [],
   "source": [
    "plt.figure()\n",
    "plt.imshow(heart_aha17_4d[:, :, 5, dia_frame], vmin=0, vmax=17)\n",
    "plt.colorbar()\n",
    "plt.figure()\n",
    "plt.imshow(heart_aha17_4d[:, :, 8, dia_frame], vmin=0, vmax=17)\n",
    "plt.colorbar()\n",
    "plt.figure()\n",
    "plt.imshow(heart_aha17_4d[:, :, 10, dia_frame], vmin=0, vmax=17)\n",
    "plt.colorbar()\n",
    "\n",
    "plt.figure()\n",
    "plt.imshow(heart_aha17_4d[:, :, 11, dia_frame], vmin=0, vmax=17)\n",
    "plt.colorbar()"
   ]
  },
  {
   "cell_type": "code",
   "execution_count": null,
   "metadata": {},
   "outputs": [],
   "source": [
    "slice_label[curve_and > 0] = loc[np.sum(curve_and)]\n",
    "slice_label[curve_apex > 0] = 4\n",
    "slice_label[curve_basal > 0] = 5"
   ]
  },
  {
   "cell_type": "code",
   "execution_count": null,
   "metadata": {},
   "outputs": [],
   "source": [
    "heart_mask = heart[..., 7, sys_frame]\n",
    "LVbmask = (heart_mask==1)\n",
    "LVwmask = (heart_mask==2)\n",
    "RVbmask = (heart_mask==3)\n",
    "heart_mask = (LVbmask, LVwmask, RVbmask)\n",
    "heart_seg_sys = ahaseg.get_seg(heart_mask, nseg=6)\n",
    "plt.imshow(heart_seg_sys)"
   ]
  },
  {
   "cell_type": "code",
   "execution_count": null,
   "metadata": {},
   "outputs": [],
   "source": [
    "heart_mask = heart[..., 7, dia_frame]\n",
    "LVbmask = (heart_mask==1)\n",
    "LVwmask = (heart_mask==2)\n",
    "RVbmask = (heart_mask==3)\n",
    "heart_mask = (LVbmask, LVwmask, RVbmask)\n",
    "heart_seg_dia = ahaseg.get_seg(heart_mask, nseg=6)\n",
    "plt.imshow(heart_seg_dia)"
   ]
  },
  {
   "cell_type": "code",
   "execution_count": null,
   "metadata": {},
   "outputs": [],
   "source": [
    "def get_center(label_mask):\n",
    "    center_list = []\n",
    "    for ii in range(np.max(label_mask)):\n",
    "        center = ndimage.center_of_mass(label_mask==(ii+1))\n",
    "        center_list.append(center)\n",
    "        \n",
    "    return np.array(center_list)"
   ]
  },
  {
   "cell_type": "code",
   "execution_count": null,
   "metadata": {},
   "outputs": [],
   "source": [
    "sys6 = get_center(heart_seg_sys)\n",
    "dia6 = get_center(heart_seg_dia)"
   ]
  },
  {
   "cell_type": "code",
   "execution_count": null,
   "metadata": {},
   "outputs": [],
   "source": [
    "plt.scatter(dia6[:, 1], dia6[:, 0])\n",
    "plt.scatter(sys6[:, 1], sys6[:, 0])"
   ]
  },
  {
   "cell_type": "code",
   "execution_count": null,
   "metadata": {},
   "outputs": [],
   "source": [
    "vector = (sys6 - dia6)"
   ]
  },
  {
   "cell_type": "code",
   "execution_count": null,
   "metadata": {},
   "outputs": [],
   "source": [
    "vector"
   ]
  },
  {
   "cell_type": "code",
   "execution_count": null,
   "metadata": {},
   "outputs": [],
   "source": [
    "plt.figure(figsize=(10, 10))\n",
    "plt.imshow(heart_seg_dia, cmap='gray')\n",
    "index = np.arange(6)\n",
    "plt.quiver(dia6[index, 1], dia6[index, 0] , \n",
    "           vector[index, 1], vector[index, 0]*-1,\n",
    "           color='r', headlength=6)\n",
    "plt.axis\n",
    "#plt.scatter(dia6[index, 1], dia6[index, 0])\n",
    "#plt.scatter(sys6[index, 1], sys6[index, 0])\n",
    "#plt.scatter(dia6[:, 1], dia6[:, 0])\n",
    "#plt.ylim(0, heart_seg_sys.shape[1])\n",
    "#plt.xlim(0, heart_seg_sys.shape[0])"
   ]
  },
  {
   "cell_type": "code",
   "execution_count": null,
   "metadata": {},
   "outputs": [],
   "source": [
    "(dia6[index, 1], dia6[index, 0])"
   ]
  },
  {
   "cell_type": "code",
   "execution_count": null,
   "metadata": {},
   "outputs": [],
   "source": [
    "(sys6[index, 1], sys6[index, 0])"
   ]
  },
  {
   "cell_type": "code",
   "execution_count": null,
   "metadata": {},
   "outputs": [],
   "source": [
    "(vector[index, 1], vector[index, 0])"
   ]
  },
  {
   "cell_type": "code",
   "execution_count": null,
   "metadata": {},
   "outputs": [],
   "source": [
    "!pip install dipy"
   ]
  },
  {
   "cell_type": "code",
   "execution_count": null,
   "metadata": {},
   "outputs": [],
   "source": [
    "import numpy as np\n",
    "from dipy.align.imwarp import SymmetricDiffeomorphicRegistration\n",
    "from dipy.align.metrics import SSDMetric, CCMetric\n",
    "import dipy.align.imwarp as imwarp\n",
    "#from dipy.data import get_fnames\n",
    "#from dipy.io.image import load_nifti_data\n",
    "#from dipy.segment.mask import median_otsu\n",
    "from dipy.viz import regtools\n",
    "\n",
    "moving = heart_seg_dia\n",
    "static = heart_seg_sys\n",
    "\n",
    "sigma_diff = 3.0\n",
    "radius = 4\n",
    "metric = CCMetric(2, sigma_diff, radius)\n",
    "dim = static.ndim\n",
    "metric = SSDMetric(dim)\n",
    "\"\"\"\n",
    "Let's use a scale space of 3 levels\n",
    "\"\"\"\n",
    "\n",
    "level_iters = [100, 50, 25]\n",
    "sdr = SymmetricDiffeomorphicRegistration(metric, level_iters)\n",
    "#sdr.callback = callback_CC\n",
    "\n",
    "\"\"\"\n",
    "And execute the optimization\n",
    "\"\"\"\n",
    "\n",
    "mapping = sdr.optimize(static, moving)\n",
    "\n",
    "warped = mapping.transform(moving)\n",
    "\n",
    "\"\"\"\n",
    "We can see the effect of the warping by switching between the images before and\n",
    "after registration\n",
    "\"\"\"\n",
    "\n",
    "regtools.overlay_images(static, moving, 'Static', 'Overlay', 'Moving',\n",
    "                        't1_slices_input.png')\n",
    "\n",
    "regtools.overlay_images(static, warped, 'Static', 'Overlay', 'Warped moving',\n",
    "                        't1_slices_res.png')\n"
   ]
  },
  {
   "cell_type": "code",
   "execution_count": null,
   "metadata": {},
   "outputs": [],
   "source": [
    "regtools.plot_2d_diffeomorphic_map(mapping, 5, 'diffeomorphic_map_b0s.png')"
   ]
  },
  {
   "cell_type": "code",
   "execution_count": null,
   "metadata": {},
   "outputs": [],
   "source": [
    "backward_field = mapping.get_backward_field()"
   ]
  },
  {
   "cell_type": "code",
   "execution_count": null,
   "metadata": {},
   "outputs": [],
   "source": [
    "plt.quiver(backward_field[..., 0], backward_field[..., 1])"
   ]
  },
  {
   "cell_type": "code",
   "execution_count": null,
   "metadata": {},
   "outputs": [],
   "source": [
    "np.max(backward_field)"
   ]
  },
  {
   "cell_type": "code",
   "execution_count": null,
   "metadata": {},
   "outputs": [],
   "source": [
    "plt.imshow(backward_field[..., 0]**2 + backward_field[..., 1]**2)\n",
    "plt.quiver(backward_field[..., 0], backward_field[..., 1])"
   ]
  },
  {
   "cell_type": "code",
   "execution_count": null,
   "metadata": {},
   "outputs": [],
   "source": [
    "v = np.sqrt(backward_field[..., 0]**2 + backward_field[..., 1]**2)"
   ]
  },
  {
   "cell_type": "code",
   "execution_count": null,
   "metadata": {},
   "outputs": [],
   "source": [
    "plt.imshow(v)"
   ]
  },
  {
   "cell_type": "code",
   "execution_count": null,
   "metadata": {},
   "outputs": [],
   "source": [
    "plt.imshow(heart_seg_sys)"
   ]
  },
  {
   "cell_type": "code",
   "execution_count": null,
   "metadata": {},
   "outputs": [],
   "source": [
    "dynamic_png(np.arange(1, 18))"
   ]
  },
  {
   "cell_type": "code",
   "execution_count": null,
   "metadata": {},
   "outputs": [],
   "source": [
    "\n",
    "def plot_aha17(aha17, vmin=None, vmax=None, fname=None):\n",
    "    import numpy as np\n",
    "    import matplotlib as mpl\n",
    "    import matplotlib.pyplot as plt\n",
    "\n",
    "    if vmin is None:\n",
    "        vmin = 0\n",
    "        vmax = np.max(aha17)\n",
    "    \n",
    "        #Create the fake data\n",
    "    #data = np.array(range(17))*10 + 1\n",
    "\n",
    "\n",
    "    # Make a figure and axes with dimensions as desired.\n",
    "    fig=plt.figure(figsize=(9,8), dpi=200)\n",
    "\n",
    "    #fig, ax = plt.subplots(figsize=(8,12),nrows=1, ncols=1,\n",
    "    #                       subplot_kw=dict(projection='polar'))\n",
    "    #fig.canvas.set_window_title('Left Ventricle Bulls Eyes (AHA)')\n",
    "\n",
    "    # Create the axis for the colorbars\n",
    "    ax = fig.add_axes([0.1, 1-8/9.+0.1, 8./9.*0.7, 1*0.7],projection='polar')\n",
    "    axl = fig.add_axes([0.76, 0.3, 0.03, 0.5])\n",
    "    #axl = fig.add_axes([0.76, 0.3, 0.01, 0.5])\n",
    "    #axl.set_aspect(1)\n",
    "    #axl2 = fig.add_axes([0.41, 0.15, 0.2, 0.05])\n",
    "    #axl3 = fig.add_axes([0.69, 0.15, 0.2, 0.05])\n",
    "\n",
    "\n",
    "    # Set the colormap and norm to correspond to the data for which\n",
    "    # the colorbar will be used.\n",
    "\n",
    "    cmap = mpl.cm.jet\n",
    "    norm = mpl.colors.Normalize(vmin=vmin, vmax=vmax)\n",
    "    #norm = mpl.colors.Normalize(vmin=0, vmax=256)\n",
    "    # ColorbarBase derives from ScalarMappable and puts a colorbar\n",
    "    # in a specified axes, so it has everything needed for a\n",
    "    # standalone colorbar.  There are many more kwargs, but the\n",
    "    # following gives a basic continuous colorbar with ticks\n",
    "    # and labels.\n",
    "    cb1 = mpl.colorbar.ColorbarBase(axl, cmap=cmap, norm=norm,\n",
    "                                    orientation='vertical')\n",
    "    #cb1.set_label('A. U.')\n",
    "\n",
    "\n",
    "    # Create the 17 segment model\n",
    "    bullseye_plot(ax, aha17, cmap=cmap, norm=norm)\n",
    "\n",
    "    #ax.set_title('Bulls Eye (AHA)')\n",
    "\n",
    "    #plt.clf()\n",
    "\n",
    "    plt.show()\n",
    "    if fname is not None:\n",
    "        plt.savefig(fname)\n",
    "\n",
    "\n",
    "def bullseye_plot(ax, data, segBold=[], cmap=None, norm=None):\n",
    "    import numpy as np\n",
    "    import matplotlib.pyplot as plt\n",
    "    import matplotlib as mpl\n",
    "    \"\"\"\n",
    "    Bullseye representation for the left ventricle.\n",
    "\n",
    "    Parameters\n",
    "    ------------\n",
    "    ax : axes\n",
    "    data : list of int and float\n",
    "        The intensity values for each of the 17 segments\n",
    "    cmap : ColorMap or None\n",
    "        Optional argument to set the disaried colormap\n",
    "    norm : Normalize or None\n",
    "        Optional argument to normalize data into the [0.0, 1.0] range\n",
    "    segBold: list of int\n",
    "        A list with the segments to highlight\n",
    "\n",
    "\n",
    "    Notes\n",
    "    -----\n",
    "    This function create the 17 segment model for the left ventricle according\n",
    "    to the American Heart Association (AHA) [1]_\n",
    "\n",
    "    References\n",
    "    ----------\n",
    "    .. [1] M. D. Cerqueira, N. J. Weissman, V. Dilsizian, A. K. Jacobs,\n",
    "        S. Kaul, W. K. Laskey, D. J. Pennell, J. A. Rumberger, T. Ryan,\n",
    "        and M. S. Verani, \"Standardized myocardial segmentation and nomenclature\n",
    "        for tomographic imaging of the heart\", Circulation, vol. 105, no. 4,\n",
    "        pp. 539-542, 2002.\n",
    "    \"\"\"\n",
    "\n",
    "    linewidth = 2\n",
    "    data = np.array(data).ravel()\n",
    "\n",
    "    if cmap is None:\n",
    "        cmap = plt.cm.jet\n",
    "\n",
    "    if norm is None:\n",
    "        norm = mpl.colors.Normalize(vmin=data.min(), vmax=data.max())\n",
    "\n",
    "    theta = np.linspace(0, 2*np.pi, 768)\n",
    "    r = np.linspace(0.2, 1, 4)\n",
    "\n",
    "    # Create the bound for the segment 17\n",
    "    for i in range(r.shape[0]):\n",
    "        ax.plot(theta, np.repeat(r[i], theta.shape), '-k', lw=linewidth)\n",
    "\n",
    "    # Create the bounds for the segments  1-12\n",
    "    for i in range(6):\n",
    "        theta_i = i*60*np.pi/180\n",
    "        ax.plot([theta_i, theta_i], [r[1], 1], '-k', lw=linewidth)\n",
    "\n",
    "    # Create the bounds for the segmentss 13-16\n",
    "    for i in range(4):\n",
    "        theta_i = i*90*np.pi/180 - 45*np.pi/180\n",
    "        ax.plot([theta_i, theta_i], [r[0], r[1]], '-k', lw=linewidth)\n",
    "\n",
    "    # Fill the segments 1-6\n",
    "    r0 = r[2:4]\n",
    "    r0 = np.repeat(r0[:, np.newaxis], 128, axis=1).T\n",
    "    for i in range(6):\n",
    "        # First segment start at 60 degrees\n",
    "        theta0 = theta[i*128:i*128+128] + 60*np.pi/180\n",
    "        theta0 = np.repeat(theta0[:, np.newaxis], 2, axis=1)\n",
    "        z = np.ones((128, 2))*data[i]\n",
    "        ax.pcolormesh(theta0, r0, z, cmap=cmap, norm=norm)\n",
    "        if i+1 in segBold:\n",
    "            ax.plot(theta0, r0, '-k', lw=linewidth+2)\n",
    "            ax.plot(theta0[0], [r[2], r[3]], '-k', lw=linewidth+1)\n",
    "            ax.plot(theta0[-1], [r[2], r[3]], '-k', lw=linewidth+1)\n",
    "\n",
    "    # Fill the segments 7-12\n",
    "    r0 = r[1:3]\n",
    "    r0 = np.repeat(r0[:, np.newaxis], 128, axis=1).T\n",
    "    for i in range(6):\n",
    "        # First segment start at 60 degrees\n",
    "        theta0 = theta[i*128:i*128+128] + 60*np.pi/180\n",
    "        theta0 = np.repeat(theta0[:, np.newaxis], 2, axis=1)\n",
    "        z = np.ones((128, 2))*data[i+6]\n",
    "        ax.pcolormesh(theta0, r0, z, cmap=cmap, norm=norm)\n",
    "        if i+7 in segBold:\n",
    "            ax.plot(theta0, r0, '-k', lw=linewidth+2)\n",
    "            ax.plot(theta0[0], [r[1], r[2]], '-k', lw=linewidth+1)\n",
    "            ax.plot(theta0[-1], [r[1], r[2]], '-k', lw=linewidth+1)\n",
    "\n",
    "    # Fill the segments 13-16\n",
    "    r0 = r[0:2]\n",
    "    r0 = np.repeat(r0[:, np.newaxis], 192, axis=1).T\n",
    "    for i in range(4):\n",
    "        # First segment start at 45 degrees\n",
    "        theta0 = theta[i*192:i*192+192] + 45*np.pi/180\n",
    "        theta0 = np.repeat(theta0[:, np.newaxis], 2, axis=1)\n",
    "        z = np.ones((192, 2))*data[i+12]\n",
    "        ax.pcolormesh(theta0, r0, z, cmap=cmap, norm=norm)\n",
    "        if i+13 in segBold:\n",
    "            ax.plot(theta0, r0, '-k', lw=linewidth+2)\n",
    "            ax.plot(theta0[0], [r[0], r[1]], '-k', lw=linewidth+1)\n",
    "            ax.plot(theta0[-1], [r[0], r[1]], '-k', lw=linewidth+1)\n",
    "\n",
    "    #Fill the segments 17\n",
    "    if data.size == 17:\n",
    "        r0 = np.array([0, r[0]])\n",
    "        r0 = np.repeat(r0[:, np.newaxis], theta.size, axis=1).T\n",
    "        theta0 = np.repeat(theta[:, np.newaxis], 2, axis=1)\n",
    "        z = np.ones((theta.size, 2))*data[16]\n",
    "        ax.pcolormesh(theta0, r0, z, cmap=cmap, norm=norm)\n",
    "        if 17 in segBold:\n",
    "            ax.plot(theta0, r0, '-k', lw=linewidth+2)\n",
    "\n",
    "    ax.set_ylim([0, 1])\n",
    "    ax.set_yticklabels([])\n",
    "    ax.set_xticklabels([])\n"
   ]
  },
  {
   "cell_type": "code",
   "execution_count": null,
   "metadata": {},
   "outputs": [],
   "source": [
    "%matplotlib inline\n",
    "plot_aha17(np.arange(1, 18))"
   ]
  },
  {
   "cell_type": "code",
   "execution_count": null,
   "metadata": {},
   "outputs": [],
   "source": [
    "plt.show"
   ]
  },
  {
   "cell_type": "code",
   "execution_count": null,
   "metadata": {},
   "outputs": [],
   "source": []
  }
 ],
 "metadata": {
  "kernelspec": {
   "display_name": "Python 3",
   "language": "python",
   "name": "python3"
  },
  "language_info": {
   "codemirror_mode": {
    "name": "ipython",
    "version": 3
   },
   "file_extension": ".py",
   "mimetype": "text/x-python",
   "name": "python",
   "nbconvert_exporter": "python",
   "pygments_lexer": "ipython3",
   "version": "3.7.6"
  }
 },
 "nbformat": 4,
 "nbformat_minor": 4
}
