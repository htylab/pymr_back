{
 "cells": [
  {
   "cell_type": "code",
   "execution_count": 264,
   "metadata": {},
   "outputs": [],
   "source": [
    "import sys\n",
    "sys.path.insert(0, '..')"
   ]
  },
  {
   "cell_type": "code",
   "execution_count": 265,
   "metadata": {},
   "outputs": [],
   "source": [
    "%matplotlib inline\n",
    "from scipy.io import loadmat\n",
    "from os.path import basename\n",
    "import numpy as np\n",
    "from scipy import ndimage\n",
    "import matplotlib.pyplot as plt\n",
    "from pymr.heart import ahaseg"
   ]
  },
  {
   "cell_type": "code",
   "execution_count": 17,
   "metadata": {},
   "outputs": [],
   "source": [
    "import nibabel\n",
    "\n",
    "heart = nibabel.load(r\"C:\\TudoCD\\OpenDataset2\\A0S9V9\\A0S9V9_sa_gt.nii.gz\").get_fdata()"
   ]
  },
  {
   "cell_type": "code",
   "execution_count": 18,
   "metadata": {},
   "outputs": [
    {
     "data": {
      "text/plain": [
       "(216, 256, 13, 25)"
      ]
     },
     "execution_count": 18,
     "metadata": {},
     "output_type": "execute_result"
    }
   ],
   "source": [
    "heart.shape"
   ]
  },
  {
   "cell_type": "code",
   "execution_count": 268,
   "metadata": {},
   "outputs": [],
   "source": [
    "curve = np.sum(heart==1, axis=(0, 1, 2))\n",
    "dia_frame = np.argmax(curve)\n",
    "curve[curve==0] = 1e8\n",
    "sys_frame = np.argmin(curve)"
   ]
  },
  {
   "cell_type": "code",
   "execution_count": 270,
   "metadata": {},
   "outputs": [],
   "source": [
    "#step 1: collect dia_frame and sys_frame\n",
    "curve = np.sum(heart, axis=(0, 1, 2))\n",
    "dia_frame = np.argmax(curve)\n",
    "curve[curve==0] = 1e8\n",
    "sys_frame = np.argmin(curve)\n",
    "\n",
    "#step 2: \n"
   ]
  },
  {
   "cell_type": "code",
   "execution_count": 234,
   "metadata": {},
   "outputs": [],
   "source": [
    "def get_slice_label(heart4d):\n",
    "    heart = heart4d.copy()\n",
    "    curve3 = np.sum(heart==3, axis=(0, 1, 3))\n",
    "    curve2 = np.sum(heart==2, axis=(0, 1, 3))\n",
    "    curve1 = np.sum(heart==1, axis=(0, 1, 3))\n",
    "\n",
    "    curve_and = (curve3 > 0) & (curve2 > 0) & (curve1 > 0)\n",
    "    curve_or = (curve3 > 0) | (curve2 > 0) | (curve1 > 0)\n",
    "    curve_and = curve_and.astype(np.int)\n",
    "    curve_or = curve_or.astype(np.int)\n",
    "    curve_diff = curve_or-curve_and\n",
    "    slice_label = curve_and * 0\n",
    "    curve_apex = curve_diff.copy()\n",
    "    curve_apex[:curve_apex.size//2] = 0\n",
    "    curve_basal = curve_diff.copy()\n",
    "    curve_basal[curve_apex.size//2:] = 0\n",
    "    #curve_apex = curve_apex * 4\n",
    "    \n",
    "    loc = dict()\n",
    "    if np.sum(curve_apex) > 0:\n",
    "        #got_apex = True    \n",
    "        loc[3] = [1]*1 + [2]*1 + [3]*1\n",
    "        loc[4] = [1]*1 + [2]*2 + [3]*1\n",
    "        loc[5] = [1]*2 + [2]*2 + [3]*1\n",
    "        loc[6] = [1]*2 + [2]*2 + [3]*2\n",
    "        loc[7] = [1]*2 + [2]*3 + [3]*2\n",
    "        loc[8] = [1]*3 + [2]*3 + [3]*2\n",
    "        loc[9] = [1]*3 + [2]*3 + [3]*3\n",
    "        loc[10] = [1]*3 + [2]*4 + [3]*3\n",
    "        loc[11] = [1]*4 + [2]*4 + [3]*3\n",
    "        loc[12] = [1]*4 + [2]*4 + [3]*4\n",
    "        loc[13] = [1]*4 + [2]*5 + [3]*4\n",
    "        loc[14] = [1]*5 + [2]*5 + [3]*4\n",
    "        loc[15] = [1]*5 + [2]*5 + [3]*5\n",
    "    else:\n",
    "        loc[3] = [1]*1 + [2]*1 + [3]*1\n",
    "        loc[4] = [1]*1 + [2]*1 + [3]*1 + [4]*1\n",
    "        loc[5] = [1]*1 + [2]*2 + [3]*1 + [4]*1\n",
    "        loc[6] = [1]*2 + [2]*2 + [3]*1 + [4]*1\n",
    "        loc[7] = [1]*2 + [2]*2 + [3]*2 + [4]*1\n",
    "        loc[8] = [1]*2 + [2]*3 + [3]*2 + [4]*1\n",
    "        loc[9] = [1]*3 + [2]*3 + [3]*2 + [4]*1\n",
    "        loc[10] = [1]*3 + [2]*3 + [3]*3 + [4]*1\n",
    "        loc[11] = [1]*3 + [2]*3 + [3]*3 + [4]*2\n",
    "        loc[12] = [1]*3 + [2]*4 + [3]*3 + [4]*2\n",
    "        loc[13] = [1]*4 + [2]*4 + [3]*3 + [4]*2\n",
    "        loc[14] = [1]*4 + [2]*4 + [3]*4 + [4]*2\n",
    "        loc[15] = [1]*4 + [2]*4 + [3]*4 + [4]*3\n",
    "        \n",
    "    slice_label[curve_and > 0] = loc[np.sum(curve_and)]\n",
    "    slice_label[curve_apex > 0] = 4\n",
    "    slice_label[curve_basal > 0] = 5\n",
    "    return slice_label\n"
   ]
  },
  {
   "cell_type": "code",
   "execution_count": 260,
   "metadata": {},
   "outputs": [
    {
     "name": "stdout",
     "output_type": "stream",
     "text": [
      "[0 0 5 1 1 1 2 2 2 3 3 4 4]\n"
     ]
    }
   ],
   "source": [
    "slice_label = get_slice_label(heart)\n",
    "print(slice_label)\n",
    "offset = dict()\n",
    "offset[1] = 0\n",
    "offset[2] = 6\n",
    "offset[3] = 12\n",
    "\n",
    "count = -1\n",
    "heart_aha17_4d = heart  * 0\n",
    "for ii in range(slice_label.size):\n",
    "    #print(slice_label[ii])\n",
    "    count = count + 1\n",
    "    if (slice_label[ii] == 0) or (slice_label[ii] == 5):\n",
    "        continue\n",
    "        \n",
    "    if slice_label[ii] == 4:\n",
    "        temp = heart[:, :, ii, :].copy()\n",
    "        temp[temp==2] = 17\n",
    "        temp[temp==1] = 0\n",
    "        temp[temp==3] = 0\n",
    "        heart_aha17_4d[:, :, ii, :] = temp\n",
    "        \n",
    "\n",
    "    heart_xyt = heart[:, :, ii, :].copy()\n",
    "    \n",
    "    curve = np.sum(heart_xyt, axis=(0, 1))\n",
    "    dia_frame = np.argmax(curve)\n",
    "    curve[curve==0] = 1e20\n",
    "    sys_frame = np.argmin(curve)\n",
    "    #print(dia_frame, sys_frame)\n",
    "    heart_xy_dia = heart_xyt[..., dia_frame]\n",
    "    heart_xy_sys = heart_xyt[..., sys_frame]\n",
    "    if slice_label[ii] == 3:\n",
    "        nseg = 4\n",
    "    else:\n",
    "        nseg = 6\n",
    "    \n",
    "    if (np.sum(heart_xy_dia==3)) == 0 or (np.sum(heart_xy_sys==3) == 0):\n",
    "        slice_label[ii] = 5\n",
    "        continue\n",
    "        \n",
    "        \n",
    "    dia_seg = ahaseg.get_seg((heart_xy_dia==1, heart_xy_dia==2, heart_xy_dia==3), nseg)\n",
    "    sys_seg = ahaseg.get_seg((heart_xy_sys==1, heart_xy_sys==2, heart_xy_sys==3), nseg)\n",
    "    \n",
    "    dia_seg[dia_seg > 0] = dia_seg[dia_seg > 0] + offset[slice_label[ii]]\n",
    "    sys_seg[sys_seg > 0] = sys_seg[sys_seg > 0] + offset[slice_label[ii]]\n",
    "    \n",
    "    heart_aha17_4d[:, :, ii, dia_frame] = dia_seg\n",
    "    heart_aha17_4d[:, :, ii, sys_frame] = sys_seg\n"
   ]
  },
  {
   "cell_type": "code",
   "execution_count": 263,
   "metadata": {},
   "outputs": [
    {
     "data": {
      "text/plain": [
       "<matplotlib.colorbar.Colorbar at 0x247d8ff2ef0>"
      ]
     },
     "execution_count": 263,
     "metadata": {},
     "output_type": "execute_result"
    },
    {
     "data": {
      "image/png": "[encoded data removed]",
      "text/plain": [
       "<Figure size 432x288 with 2 Axes>"
      ]
     },
     "metadata": {},
     "output_type": "display_data"
    },
    {
     "data": {
      "image/png": "[encoded data removed]",
      "text/plain": [
       "<Figure size 432x288 with 2 Axes>"
      ]
     },
     "metadata": {},
     "output_type": "display_data"
    },
    {
     "data": {
      "image/png": "[encoded data removed]",
      "text/plain": [
       "<Figure size 432x288 with 2 Axes>"
      ]
     },
     "metadata": {},
     "output_type": "display_data"
    },
    {
     "data": {
      "image/png": "[encoded data removed]",
      "text/plain": [
       "<Figure size 432x288 with 2 Axes>"
      ]
     },
     "metadata": {},
     "output_type": "display_data"
    }
   ],
   "source": [
    "plt.figure()\n",
    "plt.imshow(heart_aha17_4d[:, :, 5, dia_frame], vmin=0, vmax=17)\n",
    "plt.colorbar()\n",
    "plt.figure()\n",
    "plt.imshow(heart_aha17_4d[:, :, 8, dia_frame], vmin=0, vmax=17)\n",
    "plt.colorbar()\n",
    "plt.figure()\n",
    "plt.imshow(heart_aha17_4d[:, :, 10, dia_frame], vmin=0, vmax=17)\n",
    "plt.colorbar()\n",
    "\n",
    "plt.figure()\n",
    "plt.imshow(heart_aha17_4d[:, :, 11, dia_frame], vmin=0, vmax=17)\n",
    "plt.colorbar()"
   ]
  },
  {
   "cell_type": "code",
   "execution_count": 223,
   "metadata": {},
   "outputs": [],
   "source": [
    "slice_label[curve_and > 0] = loc[np.sum(curve_and)]\n",
    "slice_label[curve_apex > 0] = 4\n",
    "slice_label[curve_basal > 0] = 5"
   ]
  },
  {
   "cell_type": "code",
   "execution_count": 306,
   "metadata": {},
   "outputs": [
    {
     "data": {
      "text/plain": [
       "<matplotlib.image.AxesImage at 0x247da47e8d0>"
      ]
     },
     "execution_count": 306,
     "metadata": {},
     "output_type": "execute_result"
    },
    {
     "data": {
      "image/png": "[encoded data removed]",
      "text/plain": [
       "<Figure size 432x288 with 1 Axes>"
      ]
     },
     "metadata": {},
     "output_type": "display_data"
    }
   ],
   "source": [
    "heart_mask = heart[..., 7, systole]\n",
    "LVbmask = (heart_mask==1)\n",
    "LVwmask = (heart_mask==2)\n",
    "RVbmask = (heart_mask==3)\n",
    "heart_mask = (LVbmask, LVwmask, RVbmask)\n",
    "heart_seg_sys = ahaseg.get_seg(heart_mask, nseg=6)\n",
    "plt.imshow(heart_seg_sys)"
   ]
  },
  {
   "cell_type": "code",
   "execution_count": 307,
   "metadata": {},
   "outputs": [
    {
     "data": {
      "text/plain": [
       "<matplotlib.image.AxesImage at 0x247da4e85c0>"
      ]
     },
     "execution_count": 307,
     "metadata": {},
     "output_type": "execute_result"
    },
    {
     "data": {
      "image/png": "[encoded data removed]",
      "text/plain": [
       "<Figure size 432x288 with 1 Axes>"
      ]
     },
     "metadata": {},
     "output_type": "display_data"
    }
   ],
   "source": [
    "heart_mask = heart[..., 7, diastole]\n",
    "LVbmask = (heart_mask==1)\n",
    "LVwmask = (heart_mask==2)\n",
    "RVbmask = (heart_mask==3)\n",
    "heart_mask = (LVbmask, LVwmask, RVbmask)\n",
    "heart_seg_dia = ahaseg.get_seg(heart_mask, nseg=6)\n",
    "plt.imshow(heart_seg_dia)"
   ]
  },
  {
   "cell_type": "code",
   "execution_count": 308,
   "metadata": {},
   "outputs": [],
   "source": [
    "def get_center(label_mask):\n",
    "    center_list = []\n",
    "    for ii in range(np.max(label_mask)):\n",
    "        center = ndimage.center_of_mass(label_mask==(ii+1))\n",
    "        center_list.append(center)\n",
    "        \n",
    "    return np.array(center_list)"
   ]
  },
  {
   "cell_type": "code",
   "execution_count": 309,
   "metadata": {},
   "outputs": [],
   "source": [
    "sys6 = get_center(heart_seg_sys)\n",
    "dia6 = get_center(heart_seg_dia)"
   ]
  },
  {
   "cell_type": "code",
   "execution_count": 310,
   "metadata": {},
   "outputs": [
    {
     "data": {
      "text/plain": [
       "<matplotlib.collections.PathCollection at 0x247da5554a8>"
      ]
     },
     "execution_count": 310,
     "metadata": {},
     "output_type": "execute_result"
    },
    {
     "data": {
      "image/png": "[encoded data removed]",
      "text/plain": [
       "<Figure size 432x288 with 1 Axes>"
      ]
     },
     "metadata": {},
     "output_type": "display_data"
    }
   ],
   "source": [
    "plt.scatter(dia6[:, 1], dia6[:, 0])\n",
    "plt.scatter(sys6[:, 1], sys6[:, 0])"
   ]
  },
  {
   "cell_type": "code",
   "execution_count": 311,
   "metadata": {},
   "outputs": [],
   "source": [
    "vector = (sys6 - dia6)"
   ]
  },
  {
   "cell_type": "code",
   "execution_count": 312,
   "metadata": {},
   "outputs": [
    {
     "data": {
      "text/plain": [
       "array([[-4.39779157, -0.16167141],\n",
       "       [-0.96296296, -3.48765432],\n",
       "       [ 2.24796693, -2.7204527 ],\n",
       "       [ 3.43481613,  1.66691483],\n",
       "       [ 2.2005158 ,  5.01018698],\n",
       "       [-3.4905944 ,  6.27257953]])"
      ]
     },
     "execution_count": 312,
     "metadata": {},
     "output_type": "execute_result"
    }
   ],
   "source": [
    "vector"
   ]
  },
  {
   "cell_type": "code",
   "execution_count": 323,
   "metadata": {},
   "outputs": [
    {
     "data": {
      "text/plain": [
       "<matplotlib.collections.PathCollection at 0x247d90c8390>"
      ]
     },
     "execution_count": 323,
     "metadata": {},
     "output_type": "execute_result"
    },
    {
     "data": {
      "image/png": "[encoded data removed]",
      "text/plain": [
       "<Figure size 720x720 with 1 Axes>"
      ]
     },
     "metadata": {},
     "output_type": "display_data"
    }
   ],
   "source": [
    "plt.figure(figsize=(10, 10))\n",
    "plt.imshow(heart_seg_dia, cmap='gray')\n",
    "index = np.arange(6)\n",
    "plt.quiver(dia6[index, 1], dia6[index, 0] , \n",
    "           vector[index, 1], vector[index, 0]*-1,\n",
    "           color='r', headlength=6)\n",
    "plt.scatter(dia6[index, 1], dia6[index, 0])\n",
    "plt.scatter(sys6[index, 1], sys6[index, 0])\n",
    "#plt.scatter(dia6[:, 1], dia6[:, 0])\n",
    "#plt.ylim(0, heart_seg_sys.shape[1])\n",
    "#plt.xlim(0, heart_seg_sys.shape[0])"
   ]
  },
  {
   "cell_type": "code",
   "execution_count": 292,
   "metadata": {},
   "outputs": [
    {
     "data": {
      "text/plain": [
       "(101.24137931034483, 105.53103448275863)"
      ]
     },
     "execution_count": 292,
     "metadata": {},
     "output_type": "execute_result"
    }
   ],
   "source": [
    "(dia6[index, 1], dia6[index, 0])"
   ]
  },
  {
   "cell_type": "code",
   "execution_count": 293,
   "metadata": {},
   "outputs": [
    {
     "data": {
      "text/plain": [
       "(107.53191489361703, 108.17021276595744)"
      ]
     },
     "execution_count": 293,
     "metadata": {},
     "output_type": "execute_result"
    }
   ],
   "source": [
    "(sys6[index, 1], sys6[index, 0])"
   ]
  },
  {
   "cell_type": "code",
   "execution_count": 294,
   "metadata": {},
   "outputs": [
    {
     "data": {
      "text/plain": [
       "(6.290535583272202, 2.6391782831988166)"
      ]
     },
     "execution_count": 294,
     "metadata": {},
     "output_type": "execute_result"
    }
   ],
   "source": [
    "(vector[index, 1], vector[index, 0])"
   ]
  },
  {
   "cell_type": "code",
   "execution_count": null,
   "metadata": {},
   "outputs": [],
   "source": []
  }
 ],
 "metadata": {
  "kernelspec": {
   "display_name": "Python 3",
   "language": "python",
   "name": "python3"
  },
  "language_info": {
   "codemirror_mode": {
    "name": "ipython",
    "version": 3
   },
   "file_extension": ".py",
   "mimetype": "text/x-python",
   "name": "python",
   "nbconvert_exporter": "python",
   "pygments_lexer": "ipython3",
   "version": "3.6.4"
  }
 },
 "nbformat": 4,
 "nbformat_minor": 2
}
