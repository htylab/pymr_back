{
 "cells": [
  {
   "cell_type": "code",
   "execution_count": 3,
   "metadata": {},
   "outputs": [],
   "source": [
    "import sys\n",
    "sys.path.insert(0, '..')"
   ]
  },
  {
   "cell_type": "code",
   "execution_count": 4,
   "metadata": {},
   "outputs": [],
   "source": [
    "from scipy.io import loadmat\n",
    "from os.path import basename\n",
    "import numpy as np\n",
    "from scipy import ndimage"
   ]
  },
  {
   "cell_type": "code",
   "execution_count": 5,
   "metadata": {},
   "outputs": [],
   "source": [
    "\n",
    "\n",
    "def getLarea(input_mask):\n",
    "    try:\n",
    "        labeled_mask, cc_num = ndimage.label(input_mask)\n",
    "        mask = (labeled_mask == (np.bincount(labeled_mask.flat)[1:].argmax() + 1))\n",
    "    except:\n",
    "        mask = input_mask\n",
    "    return mask\n",
    "\n",
    "def getkvgh(matfile):\n",
    "    mat = loadmat(matfile)\n",
    "    BMAstr = basename(matfile).split('.')[0][-1]\n",
    "    T1map = mat['%s_T1map_pre' % BMAstr]\n",
    "    imapre = mat['%s_im_pre' % BMAstr]\n",
    "    LVb = mat['%s_inner' % BMAstr]\n",
    "    LVw = mat['%s_LV_wall_non' % BMAstr]\n",
    "    RVb = mat['%s_heart' % BMAstr] & np.logical_not(mat['%s_outer' % BMAstr])\n",
    "    RVb = getLarea(RVb)\n",
    "    labelimg = (LVb*0).astype(np.uint16)\n",
    "    labelimg[np.nonzero(LVb)] = 3\n",
    "    labelimg[np.nonzero(LVw)] = 2\n",
    "    labelimg[np.nonzero(RVb)] = 1\n",
    "    omatsize = T1map.shape\n",
    "    return T1map, imapre, labelimg, omatsize"
   ]
  },
  {
   "cell_type": "code",
   "execution_count": 6,
   "metadata": {},
   "outputs": [],
   "source": [
    "T1map, imapre, labelimg, omatsize = getkvgh(r'C:\\TudoCD\\T-995835-20151229_B.mat')\n",
    "lvb = labelimg\n",
    "LVbmask = (lvb==3)\n",
    "LVwmask = (lvb==2)\n",
    "RVbmask = (lvb==1)\n"
   ]
  },
  {
   "cell_type": "code",
   "execution_count": 7,
   "metadata": {},
   "outputs": [
    {
     "name": "stdout",
     "output_type": "stream",
     "text": [
      "[12.46666667 15.91044776 19.44117647 12.2        12.04477612 12.42647059]\n"
     ]
    },
    {
     "data": {
      "image/png": "[encoded data removed]",
      "text/plain": [
       "<Figure size 432x288 with 1 Axes>"
      ]
     },
     "metadata": {},
     "output_type": "display_data"
    },
    {
     "data": {
      "image/png": "[encoded data removed]",
      "text/plain": [
       "<Figure size 432x288 with 1 Axes>"
      ]
     },
     "metadata": {},
     "output_type": "display_data"
    },
    {
     "data": {
      "image/png": "[encoded data removed]",
      "text/plain": [
       "<Figure size 432x288 with 1 Axes>"
      ]
     },
     "metadata": {},
     "output_type": "display_data"
    },
    {
     "data": {
      "image/png": "[encoded data removed]",
      "text/plain": [
       "<Figure size 432x288 with 1 Axes>"
      ]
     },
     "metadata": {},
     "output_type": "display_data"
    }
   ],
   "source": [
    "%matplotlib inline\n",
    "import matplotlib.pyplot as plt\n",
    "from pymr.heart import ahaseg\n",
    "heart_mask = (LVbmask, LVwmask, RVbmask)\n",
    "label_mask = ahaseg.get_seg(heart_mask, nseg=6)\n",
    "thickmap = ahaseg.get_thickmap(LVwmask)\n",
    "thick = ahaseg.get_thick(heart_mask, nseg=6)\n",
    "thickmap_mean = ahaseg.get_thickmap_mean(label_mask, thick)\n",
    "\n",
    "\n",
    "%matplotlib inline\n",
    "import matplotlib.pyplot as plt\n",
    "plt.figure()\n",
    "plt.imshow(labelimg)\n",
    "plt.figure()\n",
    "plt.imshow(label_mask)\n",
    "plt.figure()\n",
    "plt.imshow(thickmap)\n",
    "plt.figure()\n",
    "plt.imshow(thickmap_mean)\n",
    "print(thick)"
   ]
  },
  {
   "cell_type": "code",
   "execution_count": 13,
   "metadata": {},
   "outputs": [
    {
     "name": "stdout",
     "output_type": "stream",
     "text": [
      "(127.7536637294668, 127.2834164762926)\n",
      "(83.97297297297297, 131.86486486486487)\n",
      "(103.93981481481481, 118.54166666666667)\n",
      "(131.93984962406014, 126.06015037593986)\n",
      "(143.34459459459458, 142.89864864864865)\n",
      "(123.39896373056995, 163.2538860103627)\n"
     ]
    }
   ],
   "source": [
    "from scipy import ndimage\n",
    "\n",
    "for ii in range(np.max(label_mask)):\n",
    "    center = ndimage.center_of_mass(label_mask==ii)\n",
    "    print(center)"
   ]
  },
  {
   "cell_type": "code",
   "execution_count": 11,
   "metadata": {},
   "outputs": [
    {
     "data": {
      "text/plain": [
       "(83.97297297297297, 131.86486486486487)"
      ]
     },
     "execution_count": 11,
     "metadata": {},
     "output_type": "execute_result"
    }
   ],
   "source": [
    "LV_center"
   ]
  },
  {
   "cell_type": "code",
   "execution_count": 14,
   "metadata": {},
   "outputs": [],
   "source": [
    "import nibabel"
   ]
  },
  {
   "cell_type": "code",
   "execution_count": 17,
   "metadata": {},
   "outputs": [],
   "source": [
    "heart = nibabel.load(r\"C:\\TudoCD\\OpenDataset2\\A0S9V9\\A0S9V9_sa_gt.nii.gz\").get_fdata()"
   ]
  },
  {
   "cell_type": "code",
   "execution_count": 18,
   "metadata": {},
   "outputs": [
    {
     "data": {
      "text/plain": [
       "(216, 256, 13, 25)"
      ]
     },
     "execution_count": 18,
     "metadata": {},
     "output_type": "execute_result"
    }
   ],
   "source": [
    "heart.shape"
   ]
  },
  {
   "cell_type": "code",
   "execution_count": 109,
   "metadata": {},
   "outputs": [],
   "source": [
    "diastole, systole = np.sum(heart, axis=(0, 1, 2)).argsort()[::-1][[0,1]]"
   ]
  },
  {
   "cell_type": "code",
   "execution_count": 119,
   "metadata": {},
   "outputs": [],
   "source": [
    "#step 1: collect dia_frame and sys_frame\n",
    "curve = np.sum(heart, axis=(0, 1, 2))\n",
    "dia_frame = np.argmax(curve)\n",
    "curve[curve==0] = 1e20\n",
    "sys_frame = np.argmin(curve)\n",
    "\n",
    "#step 2: \n"
   ]
  },
  {
   "cell_type": "code",
   "execution_count": 234,
   "metadata": {},
   "outputs": [],
   "source": [
    "def get_slice_label(heart4d):\n",
    "    heart = heart4d.copy()\n",
    "    curve3 = np.sum(heart==3, axis=(0, 1, 3))\n",
    "    curve2 = np.sum(heart==2, axis=(0, 1, 3))\n",
    "    curve1 = np.sum(heart==1, axis=(0, 1, 3))\n",
    "\n",
    "    curve_and = (curve3 > 0) & (curve2 > 0) & (curve1 > 0)\n",
    "    curve_or = (curve3 > 0) | (curve2 > 0) | (curve1 > 0)\n",
    "    curve_and = curve_and.astype(np.int)\n",
    "    curve_or = curve_or.astype(np.int)\n",
    "    curve_diff = curve_or-curve_and\n",
    "    slice_label = curve_and * 0\n",
    "    curve_apex = curve_diff.copy()\n",
    "    curve_apex[:curve_apex.size//2] = 0\n",
    "    curve_basal = curve_diff.copy()\n",
    "    curve_basal[curve_apex.size//2:] = 0\n",
    "    #curve_apex = curve_apex * 4\n",
    "    \n",
    "    loc = dict()\n",
    "    if np.sum(curve_apex) > 0:\n",
    "        #got_apex = True    \n",
    "        loc[3] = [1]*1 + [2]*1 + [3]*1\n",
    "        loc[4] = [1]*1 + [2]*2 + [3]*1\n",
    "        loc[5] = [1]*2 + [2]*2 + [3]*1\n",
    "        loc[6] = [1]*2 + [2]*2 + [3]*2\n",
    "        loc[7] = [1]*2 + [2]*3 + [3]*2\n",
    "        loc[8] = [1]*3 + [2]*3 + [3]*2\n",
    "        loc[9] = [1]*3 + [2]*3 + [3]*3\n",
    "        loc[10] = [1]*3 + [2]*4 + [3]*3\n",
    "        loc[11] = [1]*4 + [2]*4 + [3]*3\n",
    "        loc[12] = [1]*4 + [2]*4 + [3]*4\n",
    "        loc[13] = [1]*4 + [2]*5 + [3]*4\n",
    "        loc[14] = [1]*5 + [2]*5 + [3]*4\n",
    "        loc[15] = [1]*5 + [2]*5 + [3]*5\n",
    "    else:\n",
    "        loc[3] = [1]*1 + [2]*1 + [3]*1\n",
    "        loc[4] = [1]*1 + [2]*1 + [3]*1 + [4]*1\n",
    "        loc[5] = [1]*1 + [2]*2 + [3]*1 + [4]*1\n",
    "        loc[6] = [1]*2 + [2]*2 + [3]*1 + [4]*1\n",
    "        loc[7] = [1]*2 + [2]*2 + [3]*2 + [4]*1\n",
    "        loc[8] = [1]*2 + [2]*3 + [3]*2 + [4]*1\n",
    "        loc[9] = [1]*3 + [2]*3 + [3]*2 + [4]*1\n",
    "        loc[10] = [1]*3 + [2]*3 + [3]*3 + [4]*1\n",
    "        loc[11] = [1]*3 + [2]*3 + [3]*3 + [4]*2\n",
    "        loc[12] = [1]*3 + [2]*4 + [3]*3 + [4]*2\n",
    "        loc[13] = [1]*4 + [2]*4 + [3]*3 + [4]*2\n",
    "        loc[14] = [1]*4 + [2]*4 + [3]*4 + [4]*2\n",
    "        loc[15] = [1]*4 + [2]*4 + [3]*4 + [4]*3\n",
    "        \n",
    "    slice_label[curve_and > 0] = loc[np.sum(curve_and)]\n",
    "    slice_label[curve_apex > 0] = 4\n",
    "    slice_label[curve_basal > 0] = 5\n",
    "    return slice_label\n"
   ]
  },
  {
   "cell_type": "code",
   "execution_count": 260,
   "metadata": {},
   "outputs": [
    {
     "name": "stdout",
     "output_type": "stream",
     "text": [
      "[0 0 5 1 1 1 2 2 2 3 3 4 4]\n"
     ]
    }
   ],
   "source": [
    "slice_label = get_slice_label(heart)\n",
    "print(slice_label)\n",
    "offset = dict()\n",
    "offset[1] = 0\n",
    "offset[2] = 6\n",
    "offset[3] = 12\n",
    "\n",
    "count = -1\n",
    "heart_aha17_4d = heart  * 0\n",
    "for ii in range(slice_label.size):\n",
    "    #print(slice_label[ii])\n",
    "    count = count + 1\n",
    "    if (slice_label[ii] == 0) or (slice_label[ii] == 5):\n",
    "        continue\n",
    "        \n",
    "    if slice_label[ii] == 4:\n",
    "        temp = heart[:, :, ii, :].copy()\n",
    "        temp[temp==2] = 17\n",
    "        temp[temp==1] = 0\n",
    "        temp[temp==3] = 0\n",
    "        heart_aha17_4d[:, :, ii, :] = temp\n",
    "        \n",
    "\n",
    "    heart_xyt = heart[:, :, ii, :].copy()\n",
    "    \n",
    "    curve = np.sum(heart_xyt, axis=(0, 1))\n",
    "    dia_frame = np.argmax(curve)\n",
    "    curve[curve==0] = 1e20\n",
    "    sys_frame = np.argmin(curve)\n",
    "    #print(dia_frame, sys_frame)\n",
    "    heart_xy_dia = heart_xyt[..., dia_frame]\n",
    "    heart_xy_sys = heart_xyt[..., sys_frame]\n",
    "    if slice_label[ii] == 3:\n",
    "        nseg = 4\n",
    "    else:\n",
    "        nseg = 6\n",
    "    \n",
    "    if (np.sum(heart_xy_dia==3)) == 0 or (np.sum(heart_xy_sys==3) == 0):\n",
    "        slice_label[ii] = 5\n",
    "        continue\n",
    "        \n",
    "        \n",
    "    dia_seg = ahaseg.get_seg((heart_xy_dia==1, heart_xy_dia==2, heart_xy_dia==3), nseg)\n",
    "    sys_seg = ahaseg.get_seg((heart_xy_sys==1, heart_xy_sys==2, heart_xy_sys==3), nseg)\n",
    "    \n",
    "    dia_seg[dia_seg > 0] = dia_seg[dia_seg > 0] + offset[slice_label[ii]]\n",
    "    sys_seg[sys_seg > 0] = sys_seg[sys_seg > 0] + offset[slice_label[ii]]\n",
    "    \n",
    "    heart_aha17_4d[:, :, ii, dia_frame] = dia_seg\n",
    "    heart_aha17_4d[:, :, ii, sys_frame] = sys_seg\n"
   ]
  },
  {
   "cell_type": "code",
   "execution_count": 263,
   "metadata": {},
   "outputs": [
    {
     "data": {
      "text/plain": [
       "<matplotlib.colorbar.Colorbar at 0x247d8ff2ef0>"
      ]
     },
     "execution_count": 263,
     "metadata": {},
     "output_type": "execute_result"
    },
    {
     "data": {
      "image/png": "[encoded data removed]",
      "text/plain": [
       "<Figure size 432x288 with 2 Axes>"
      ]
     },
     "metadata": {},
     "output_type": "display_data"
    },
    {
     "data": {
      "image/png": "[encoded data removed]",
      "text/plain": [
       "<Figure size 432x288 with 2 Axes>"
      ]
     },
     "metadata": {},
     "output_type": "display_data"
    },
    {
     "data": {
      "image/png": "[encoded data removed]",
      "text/plain": [
       "<Figure size 432x288 with 2 Axes>"
      ]
     },
     "metadata": {},
     "output_type": "display_data"
    },
    {
     "data": {
      "image/png": "[encoded data removed]",
      "text/plain": [
       "<Figure size 432x288 with 2 Axes>"
      ]
     },
     "metadata": {},
     "output_type": "display_data"
    }
   ],
   "source": [
    "plt.figure()\n",
    "plt.imshow(heart_aha17_4d[:, :, 5, dia_frame], vmin=0, vmax=17)\n",
    "plt.colorbar()\n",
    "plt.figure()\n",
    "plt.imshow(heart_aha17_4d[:, :, 8, dia_frame], vmin=0, vmax=17)\n",
    "plt.colorbar()\n",
    "plt.figure()\n",
    "plt.imshow(heart_aha17_4d[:, :, 10, dia_frame], vmin=0, vmax=17)\n",
    "plt.colorbar()\n",
    "\n",
    "plt.figure()\n",
    "plt.imshow(heart_aha17_4d[:, :, 11, dia_frame], vmin=0, vmax=17)\n",
    "plt.colorbar()"
   ]
  },
  {
   "cell_type": "code",
   "execution_count": 223,
   "metadata": {},
   "outputs": [],
   "source": [
    "slice_label[curve_and > 0] = loc[np.sum(curve_and)]\n",
    "slice_label[curve_apex > 0] = 4\n",
    "slice_label[curve_basal > 0] = 5"
   ]
  },
  {
   "cell_type": "code",
   "execution_count": 138,
   "metadata": {},
   "outputs": [
    {
     "data": {
      "text/plain": [
       "<matplotlib.image.AxesImage at 0x247cd06aba8>"
      ]
     },
     "execution_count": 138,
     "metadata": {},
     "output_type": "execute_result"
    },
    {
     "data": {
      "image/png": "[encoded data removed]",
      "text/plain": [
       "<Figure size 432x288 with 1 Axes>"
      ]
     },
     "metadata": {},
     "output_type": "display_data"
    }
   ],
   "source": [
    "heart_mask = heart[..., 5, systole]\n",
    "LVbmask = (heart_mask==1)\n",
    "LVwmask = (heart_mask==2)\n",
    "RVbmask = (heart_mask==3)\n",
    "heart_mask = (LVbmask, LVwmask, RVbmask)\n",
    "heart_seg_sys = ahaseg.get_seg(heart_mask, nseg=6)\n",
    "plt.imshow(heart_seg_sys)"
   ]
  },
  {
   "cell_type": "code",
   "execution_count": 112,
   "metadata": {},
   "outputs": [
    {
     "data": {
      "text/plain": [
       "<matplotlib.image.AxesImage at 0x247cceb6240>"
      ]
     },
     "execution_count": 112,
     "metadata": {},
     "output_type": "execute_result"
    },
    {
     "data": {
      "image/png": "[encoded data removed]",
      "text/plain": [
       "<Figure size 432x288 with 1 Axes>"
      ]
     },
     "metadata": {},
     "output_type": "display_data"
    }
   ],
   "source": [
    "heart_mask = heart[..., 5, diastole]\n",
    "LVbmask = (heart_mask==1)\n",
    "LVwmask = (heart_mask==2)\n",
    "RVbmask = (heart_mask==3)\n",
    "heart_mask = (LVbmask, LVwmask, RVbmask)\n",
    "heart_seg_dia = ahaseg.get_seg(heart_mask, nseg=6)\n",
    "plt.imshow(heart_seg_dia)"
   ]
  },
  {
   "cell_type": "code",
   "execution_count": 105,
   "metadata": {},
   "outputs": [],
   "source": [
    "def get_center(label_mask):\n",
    "    center_list = []\n",
    "    for ii in range(np.max(label_mask)):\n",
    "        center = ndimage.center_of_mass(label_mask==(ii+1))\n",
    "        center_list.append(center)\n",
    "        \n",
    "    return np.array(center_list)"
   ]
  },
  {
   "cell_type": "code",
   "execution_count": 106,
   "metadata": {},
   "outputs": [],
   "source": [
    "sys6 = get_center(heart_seg_sys)\n",
    "dia6 = get_center(heart_seg_dia)"
   ]
  },
  {
   "cell_type": "code",
   "execution_count": 107,
   "metadata": {},
   "outputs": [],
   "source": [
    "vector = (sys6 - dia6)"
   ]
  },
  {
   "cell_type": "code",
   "execution_count": 108,
   "metadata": {},
   "outputs": [
    {
     "data": {
      "text/plain": [
       "<matplotlib.quiver.Quiver at 0x247ccd9dd30>"
      ]
     },
     "execution_count": 108,
     "metadata": {},
     "output_type": "execute_result"
    },
    {
     "data": {
      "image/png": "[encoded data removed]",
      "text/plain": [
       "<Figure size 432x288 with 1 Axes>"
      ]
     },
     "metadata": {},
     "output_type": "display_data"
    }
   ],
   "source": [
    "plt.imshow(heart_seg_dia + heart_seg_sys)\n",
    "plt.quiver(dia6[:, 1], dia6[:, 0] , vector[:, 1], vector[:, 0])\n",
    "#plt.scatter(dia6[:, 1], dia6[:, 0])\n",
    "#plt.ylim(0, heart_seg_sys.shape[1])\n",
    "#plt.xlim(0, heart_seg_sys.shape[0])"
   ]
  },
  {
   "cell_type": "code",
   "execution_count": 102,
   "metadata": {},
   "outputs": [
    {
     "data": {
      "text/plain": [
       "array([[-3.74476723, -1.47743017],\n",
       "       [-1.35581491, -4.50864046],\n",
       "       [ 2.0857017 ,  0.02737387],\n",
       "       [ 4.42333563,  4.75919132],\n",
       "       [ 1.00854655,  8.78401039],\n",
       "       [-2.71679136,  2.36420102]])"
      ]
     },
     "execution_count": 102,
     "metadata": {},
     "output_type": "execute_result"
    }
   ],
   "source": [
    "vector"
   ]
  },
  {
   "cell_type": "code",
   "execution_count": 63,
   "metadata": {},
   "outputs": [
    {
     "data": {
      "text/plain": [
       "array([[ 7.31248456e-03,  2.40871366e-02],\n",
       "       [ 3.74476723e+00,  1.47743017e+00],\n",
       "       [ 1.35581491e+00,  4.50864046e+00],\n",
       "       [-2.08570170e+00, -2.73738709e-02],\n",
       "       [-4.42333563e+00, -4.75919132e+00],\n",
       "       [-1.00854655e+00, -8.78401039e+00]])"
      ]
     },
     "execution_count": 63,
     "metadata": {},
     "output_type": "execute_result"
    }
   ],
   "source": [
    "vector"
   ]
  },
  {
   "cell_type": "code",
   "execution_count": 64,
   "metadata": {},
   "outputs": [
    {
     "data": {
      "text/plain": [
       "array([107.80171223,  96.28666667,  72.07878788,  66.50980392,\n",
       "        84.27891156, 113.85611511])"
      ]
     },
     "execution_count": 64,
     "metadata": {},
     "output_type": "execute_result"
    }
   ],
   "source": [
    "dia6[:,0]"
   ]
  },
  {
   "cell_type": "code",
   "execution_count": null,
   "metadata": {},
   "outputs": [],
   "source": []
  }
 ],
 "metadata": {
  "kernelspec": {
   "display_name": "Python 3",
   "language": "python",
   "name": "python3"
  },
  "language_info": {
   "codemirror_mode": {
    "name": "ipython",
    "version": 3
   },
   "file_extension": ".py",
   "mimetype": "text/x-python",
   "name": "python",
   "nbconvert_exporter": "python",
   "pygments_lexer": "ipython3",
   "version": "3.6.4"
  }
 },
 "nbformat": 4,
 "nbformat_minor": 2
}
