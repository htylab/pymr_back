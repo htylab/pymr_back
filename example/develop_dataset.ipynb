{
 "cells": [
  {
   "cell_type": "code",
   "execution_count": 1,
   "metadata": {},
   "outputs": [],
   "source": [
    "import sys\n",
    "sys.path.insert(0, '..')"
   ]
  },
  {
   "cell_type": "code",
   "execution_count": 2,
   "metadata": {},
   "outputs": [],
   "source": [
    "import pymr.heart as pyheart\n",
    "from os.path import basename, join"
   ]
  },
  {
   "cell_type": "code",
   "execution_count": 3,
   "metadata": {},
   "outputs": [],
   "source": [
    "from pymr import heart as pyheart\n",
    "#pyheart.dataset.convert_mms(r'/home/OpenDataset', dest_dir=r'/home/OpenDataset/MMS_lab19')"
   ]
  },
  {
   "cell_type": "code",
   "execution_count": null,
   "metadata": {},
   "outputs": [
    {
     "name": "stderr",
     "output_type": "stream",
     "text": [
      "pixdim[0] (qfac) should be 1 (default) or -1; setting qfac to 1\n",
      "pixdim[0] (qfac) should be 1 (default) or -1; setting qfac to 1\n",
      "pixdim[0] (qfac) should be 1 (default) or -1; setting qfac to 1\n",
      "pixdim[0] (qfac) should be 1 (default) or -1; setting qfac to 1\n",
      "pixdim[0] (qfac) should be 1 (default) or -1; setting qfac to 1\n",
      "pixdim[0] (qfac) should be 1 (default) or -1; setting qfac to 1\n",
      "pixdim[0] (qfac) should be 1 (default) or -1; setting qfac to 1\n",
      "pixdim[0] (qfac) should be 1 (default) or -1; setting qfac to 1\n",
      "pixdim[0] (qfac) should be 1 (default) or -1; setting qfac to 1\n",
      "../pymr/heart/viz.py:24: RuntimeWarning: More than 20 figures have been opened. Figures created through the pyplot interface (`matplotlib.pyplot.figure`) are retained until explicitly closed and may consume too much memory. (To control this warning, see the rcParam `figure.max_open_warning`).\n",
      "  plt.figure(figsize=(10, 10))\n",
      "pixdim[0] (qfac) should be 1 (default) or -1; setting qfac to 1\n",
      "pixdim[0] (qfac) should be 1 (default) or -1; setting qfac to 1\n",
      "pixdim[0] (qfac) should be 1 (default) or -1; setting qfac to 1\n",
      "pixdim[0] (qfac) should be 1 (default) or -1; setting qfac to 1\n",
      "pixdim[0] (qfac) should be 1 (default) or -1; setting qfac to 1\n",
      "pixdim[0] (qfac) should be 1 (default) or -1; setting qfac to 1\n",
      "pixdim[0] (qfac) should be 1 (default) or -1; setting qfac to 1\n",
      "pixdim[0] (qfac) should be 1 (default) or -1; setting qfac to 1\n",
      "pixdim[0] (qfac) should be 1 (default) or -1; setting qfac to 1\n",
      "pixdim[0] (qfac) should be 1 (default) or -1; setting qfac to 1\n",
      "pixdim[0] (qfac) should be 1 (default) or -1; setting qfac to 1\n",
      "pixdim[0] (qfac) should be 1 (default) or -1; setting qfac to 1\n"
     ]
    }
   ],
   "source": [
    "pyheart.dataset.convert_acdc(r'/home/ACDC/ACDC', dest_dir=r'/home/OpenDataset/ACDC_lab19')"
   ]
  },
  {
   "cell_type": "code",
   "execution_count": 5,
   "metadata": {},
   "outputs": [],
   "source": [
    "data = r'/home/OpenDataset/ACDC_lab19/patient009_gt.nii.gz'\n"
   ]
  },
  {
   "cell_type": "code",
   "execution_count": 6,
   "metadata": {},
   "outputs": [
    {
     "data": {
      "text/plain": [
       "array([1, 1, 1, 2, 2, 2, 3, 3, 4, 4])"
      ]
     },
     "execution_count": 6,
     "metadata": {},
     "output_type": "execute_result"
    }
   ],
   "source": [
    "import nibabel\n",
    "pyheart.dataset.get_slice_label(nibabel.load(data).get_fdata())"
   ]
  },
  {
   "cell_type": "code",
   "execution_count": null,
   "metadata": {},
   "outputs": [],
   "source": [
    "import numpy as np\n",
    "heart = nibabel.load(data).get_fdata().copy()\n",
    "curve = np.zeros((heart.shape[2],))\n",
    "sys_frame, dia_frame = pyheart.get_frame(heart)\n",
    "for slicen in range(heart.shape[2]):    \n",
    "    heart_mask_xyt = heart[:, :, slicen, :]\n",
    "    if np.unique(heart_mask_xyt[..., sys_frame]).sum() + np.unique(heart_mask_xyt[..., dia_frame]).sum() == 12:\n",
    "        curve[slicen] = 1\n",
    "\n",
    "curve_and = curve.astype(np.int)\n",
    "curve_or = (np.sum(heart, axis=(0, 1, 3)) > 0).astype(np.int)\n",
    "curve_diff = curve_or - curve_and\n",
    "diff = np.diff(np.sum(heart==1, axis=(0, 1, 3)))\n",
    "diff = np.median(diff[curve_and[1:] > 0])\n",
    "\n",
    "slice_label = curve_and * 0\n",
    "mid_point = curve_and.size//2\n",
    "\n",
    "curve_apex = curve_diff.copy()\n",
    "curve_basal = curve_diff.copy()"
   ]
  },
  {
   "cell_type": "code",
   "execution_count": null,
   "metadata": {},
   "outputs": [],
   "source": [
    "curve_and = curve.astype(np.int)"
   ]
  },
  {
   "cell_type": "code",
   "execution_count": null,
   "metadata": {},
   "outputs": [],
   "source": [
    "diff = np.diff(np.sum(heart==1, axis=(0, 1, 3)))\n",
    "print(diff)"
   ]
  },
  {
   "cell_type": "code",
   "execution_count": null,
   "metadata": {},
   "outputs": [],
   "source": [
    "diff = np.diff(np.sum(heart==1, axis=(0, 1, 3)))\n",
    "diff = np.median(diff[curve_and[1:] > 0])\n",
    "print(diff)"
   ]
  },
  {
   "cell_type": "code",
   "execution_count": null,
   "metadata": {},
   "outputs": [],
   "source": [
    "temp = np.sum(heart==1, axis=(0, 1, 3))[curve_and>0]\n",
    "diff = temp[-1] - temp[0]\n",
    "print(diff)"
   ]
  },
  {
   "cell_type": "code",
   "execution_count": null,
   "metadata": {},
   "outputs": [],
   "source": [
    "temp = np.sum(heart==1, axis=(0, 1, 3))\n",
    "temp = temp[temp>0]\n",
    "diff = temp[-1] - temp[0]\n",
    "print(diff)"
   ]
  },
  {
   "cell_type": "code",
   "execution_count": null,
   "metadata": {},
   "outputs": [],
   "source": [
    "curve_or = (np.sum(heart, axis=(0, 1, 3)) > 0).astype(np.int)\n",
    "curve_diff = curve_or - curve_and\n",
    "diff = np.diff(np.sum(heart==1, axis=(0, 1, 3))) * curve_and[1:]\n",
    "diff = np.median(diff[curve_and[1:] > 0])"
   ]
  },
  {
   "cell_type": "code",
   "execution_count": null,
   "metadata": {},
   "outputs": [],
   "source": [
    "if diff < 0:\n",
    "    basal_first = True\n",
    "\n",
    "    curve_apex[:mid_point] = 0\n",
    "    curve_basal[mid_point:] = 0\n",
    "else:\n",
    "    basal_first = False\n",
    "    curve_apex[mid_point:] = 0\n",
    "    curve_basal[:mid_point] = 0\n",
    "\n",
    "got_apex = np.sum(curve_apex) > 0\n",
    "\n",
    "if basal_first:\n",
    "    slice_label[curve_and > 0] = pyheart.dataset.get_loc(np.sum(curve_and), got_apex)\n",
    "    slice_label[curve_apex > 0] = 4\n",
    "    slice_label[curve_basal > 0] = 11\n",
    "else:\n",
    "    slice_label[curve_and > 0] = pyheart.dataset.get_loc(np.sum(curve_and), got_apex)[::-1]\n",
    "    slice_label[curve_apex > 0] = 4\n",
    "    slice_label[curve_basal > 0] = 11"
   ]
  },
  {
   "cell_type": "code",
   "execution_count": null,
   "metadata": {},
   "outputs": [],
   "source": [
    "f = glob.glob(r'/home/ACDC/ACDC/training/**/*_4d.nii.gz')[0]\n",
    "temp = nibabel.load(f)\n",
    "vol4d = temp.get_fdata()\n",
    "affine = temp.affine\n",
    "heart = vol4d * 0\n",
    "for gt in glob.glob(f.replace('_4d.nii.gz','*gt.nii.gz' )):\n",
    "    gt_mask = nibabel.load(gt).get_fdata()\n",
    "    frame = int(basename(gt).split('_')[1].replace('frame', ''))\n",
    "    heart[..., frame] = gt_mask\n",
    "    "
   ]
  },
  {
   "cell_type": "code",
   "execution_count": null,
   "metadata": {},
   "outputs": [],
   "source": [
    "def safe_mkdir(dirname):\n",
    "    try:\n",
    "        os.mkdir(dirname)\n",
    "    except Exception as e:\n",
    "        pass"
   ]
  },
  {
   "cell_type": "code",
   "execution_count": null,
   "metadata": {},
   "outputs": [],
   "source": [
    "\n",
    "import glob\n",
    "import nibabel\n",
    "import numpy as np\n",
    "import shutil\n",
    "import os\n",
    "source_dir = r'/home/ACDC/ACDC'\n",
    "\n",
    "dest_dir = join(source_dir, 'Convert_lab19') \n",
    "jpg_dir = join(dest_dir, 'jpg')\n",
    "\n",
    "safe_mkdir(dest_dir)\n",
    "safe_mkdir(jpg_dir)\n",
    "\n",
    "for f in glob.glob(join(source_dir, 'training', '**', '*_4d.nii.gz')):\n",
    "    \n",
    "    try:\n",
    "    #print(f)\n",
    "        base_f = basename(f)\n",
    "        temp = nibabel.load(f)\n",
    "        vol4d = temp.get_fdata()\n",
    "        affine = temp.affine\n",
    "        heart = vol4d * 0\n",
    "        for gt in glob.glob(f.replace('_4d.nii.gz','*gt.nii.gz' )):\n",
    "            gt_mask = nibabel.load(gt).get_fdata()\n",
    "            frame = int(basename(gt).split('_')[1].replace('frame', ''))\n",
    "            heart[..., frame-1] = gt_mask\n",
    "        heart_aha17_4d = pyheart.dataset.convert(heart, dataset='ACDC')\n",
    "\n",
    "        result_f = join(dest_dir, base_f.replace('_4d.nii.gz', '_gt.nii.gz'))      \n",
    "        nii_label = nibabel.Nifti1Image(heart.astype(np.uint8), affine)\n",
    "        nibabel.save(nii_label, result_f)\n",
    "\n",
    "\n",
    "        result_f = join(dest_dir, base_f.replace('_4d.nii.gz', '_lab19.nii.gz'))      \n",
    "        nii_label = nibabel.Nifti1Image(heart_aha17_4d.astype(np.uint8), affine)\n",
    "        nibabel.save(nii_label, result_f)\n",
    "\n",
    "\n",
    "        result_f = base_f.replace('_4d.nii.gz', '.nii.gz')\n",
    "        shutil.copyfile(f, join(dest_dir, result_f))\n",
    "\n",
    "        sys_frame, dia_frame = pyheart.get_frame(heart)\n",
    "        heart_crop, crop = pyheart.auto_crop(heart_aha17_4d)            \n",
    "        jpg_file = join(jpg_dir, base_f + '.jpg')\n",
    "        pyheart.montage(np.concatenate([heart_crop[..., sys_frame], heart_crop[..., dia_frame]], axis=-1), fname=jpg_file, display=False)\n",
    "    \n",
    "    except Exception as e:\n",
    "\n",
    "        print(e)\n",
    "        print('error:', f)\n",
    "                "
   ]
  },
  {
   "cell_type": "code",
   "execution_count": null,
   "metadata": {},
   "outputs": [],
   "source": [
    "pyheart.dataset.convert(heart, dataset='ACDC')"
   ]
  },
  {
   "cell_type": "code",
   "execution_count": null,
   "metadata": {},
   "outputs": [],
   "source": [
    "    train_ffs = glob.glob(join(source_dir, 'Training', 'Labeled', '**', '*gt.nii.gz'))\n",
    "    val_ffs = glob.glob(join(source_dir, 'Validation', '**', '*gt.nii.gz'))\n",
    "    test_ffs = glob.glob(join(source_dir, 'Testing', '**', '*gt.nii.gz'))\n",
    "    \n",
    "\n",
    "    \n",
    "    \n",
    "    if dest_dir is None:\n",
    "        dest_dir = join(source_dir, 'Convert_lab19')\n",
    "        \n",
    "        \n",
    "    train_dir = join(dest_dir, 'Training')\n",
    "    val_dir = join(dest_dir, 'Validation')\n",
    "    test_dir = join(dest_dir, 'Testing')\n",
    "    jpg_dir = join(dest_dir, 'jpg')\n",
    "    safe_mkdir(dest_dir)\n",
    "    safe_mkdir(train_dir)\n",
    "    safe_mkdir(val_dir)\n",
    "    safe_mkdir(test_dir)\n",
    "    safe_mkdir(jpg_dir)\n",
    "    \n",
    "    loop = [(train_ffs, train_dir), (val_ffs, val_dir), (test_ffs, test_dir)]\n",
    "    \n",
    "    for ffs, result_dir in loop:\n",
    "        print(result_dir)\n",
    "        for f in ffs:\n",
    "            try:\n",
    "                heart_aha17_4d = convert(f, dataset='MMS', result_dir=result_dir)\n",
    "                sys_frame, dia_frame = get_frame(nibabel.load(f).get_fdata())\n",
    "                heart_crop, crop = auto_crop(heart_aha17_4d)            \n",
    "                jpg_file = join(jpg_dir, basename(f) + '.jpg')\n",
    "                montage(np.concatenate([heart_crop[..., sys_frame], heart_crop[..., dia_frame]], axis=-1), fname=jpg_file, display=False)\n",
    "                img_file = f.replace('_gt.nii.gz', '.nii.gz')\n",
    "                shutil.copyfile(img_file, join(result_dir, basename(img_file)))\n",
    "                shutil.copyfile(f, join(result_dir, basename(f)))\n",
    "\n",
    "            except Exception as e:\n",
    "\n",
    "                print(e)\n",
    "                print('error:', f)"
   ]
  },
  {
   "cell_type": "code",
   "execution_count": null,
   "metadata": {},
   "outputs": [],
   "source": [
    "vol4d = temp.get_fdata()"
   ]
  },
  {
   "cell_type": "code",
   "execution_count": null,
   "metadata": {},
   "outputs": [],
   "source": [
    "affine = temp.affine"
   ]
  },
  {
   "cell_type": "code",
   "execution_count": null,
   "metadata": {},
   "outputs": [],
   "source": [
    "temp = nibabel.load(f)"
   ]
  },
  {
   "cell_type": "code",
   "execution_count": null,
   "metadata": {},
   "outputs": [],
   "source": []
  }
 ],
 "metadata": {
  "kernelspec": {
   "display_name": "Python 3",
   "language": "python",
   "name": "python3"
  },
  "language_info": {
   "codemirror_mode": {
    "name": "ipython",
    "version": 3
   },
   "file_extension": ".py",
   "mimetype": "text/x-python",
   "name": "python",
   "nbconvert_exporter": "python",
   "pygments_lexer": "ipython3",
   "version": "3.7.6"
  }
 },
 "nbformat": 4,
 "nbformat_minor": 4
}
