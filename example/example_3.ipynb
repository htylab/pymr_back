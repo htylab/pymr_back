{
 "cells": [
  {
   "cell_type": "code",
   "execution_count": 1,
   "metadata": {},
   "outputs": [],
   "source": [
    "import sys\n",
    "sys.path.insert(0, '..')"
   ]
  },
  {
   "cell_type": "code",
   "execution_count": 2,
   "metadata": {},
   "outputs": [],
   "source": [
    "%matplotlib inline\n",
    "import matplotlib\n",
    "from scipy.io import loadmat\n",
    "from os.path import basename\n",
    "import numpy as np\n",
    "from scipy import ndimage\n",
    "import matplotlib.pyplot as plt\n",
    "from pymr.heart import ahaseg"
   ]
  },
  {
   "cell_type": "code",
   "execution_count": 3,
   "metadata": {},
   "outputs": [],
   "source": [
    "import nibabel\n",
    "heart = nibabel.load(r\"test_gt.nii.gz\").get_fdata()"
   ]
  },
  {
   "cell_type": "code",
   "execution_count": 4,
   "metadata": {},
   "outputs": [],
   "source": [
    "import pymr.heart as pyheart"
   ]
  },
  {
   "cell_type": "code",
   "execution_count": 5,
   "metadata": {},
   "outputs": [
    {
     "output_type": "stream",
     "name": "stdout",
     "text": [
      "-1\n",
      "-1\n",
      "-1\n",
      "-1\n",
      "[0.06875    0.09368687 0.02634249 0.11638418 0.2245269  0.11807801]\n",
      "[0.07782039 0.14860849 0.01165839 0.05555556 0.10872317 0.11778042]\n",
      "[0.05853051 0.10772579 0.08162738 0.06071239 0.02564103 0.12169312]\n",
      "[ 0.17432362  0.09722488  0.00532189 -0.03323864 -0.18966292 -0.03055385]\n",
      "[ 0.04096746  0.17369727  0.11789277 -0.12763476 -0.25938108  0.11454545]\n",
      "[0.01568244 0.27579737 0.11650615 0.08563669 0.23781979 0.07697181]\n",
      "[0.12470242 0.15364696 0.10617177 0.14459584 0.17364841 0.24208725]\n",
      "-1\n",
      "-1\n"
     ]
    }
   ],
   "source": [
    "for ii in range(heart.shape[2]):\n",
    "    result = pyheart.thickness.thick_ana_xyt(heart[..., ii, :])"
   ]
  },
  {
   "cell_type": "code",
   "execution_count": null,
   "metadata": {},
   "outputs": [],
   "source": [
    "pyheart.thickness.get_frame(heart)"
   ]
  },
  {
   "cell_type": "code",
   "execution_count": null,
   "metadata": {},
   "outputs": [],
   "source": [
    "heart_crop, crop = pyheart.auto_crop(heart)\n",
    "motion_map_list = []\n",
    "for ii in range(heart_crop.shape[2]):\n",
    "    print(ii)\n",
    "    heart_mask = heart_crop[..., ii, :]\n",
    "    motion_vector, motion_map = pyheart.motion.motion_ana_xyt(heart_mask, nseg=6, display=True)\n",
    "    if np.sum(motion_map)==0:\n",
    "        continue\n",
    "    motion_map_list.append(motion_map)\n",
    "\n",
    "plt.figure(figsize=(30,5))\n",
    "plt.imshow(np.hstack(motion_map_list))\n",
    "plt.axis('off')\n"
   ]
  }
 ],
 "metadata": {
  "kernelspec": {
   "name": "python3",
   "display_name": "Python 3.6.4 64-bit (conda)",
   "metadata": {
    "interpreter": {
     "hash": "97ae724bfa85b9b34df7982b8bb8c7216f435b92902d749e4263f71162bea840"
    }
   }
  },
  "language_info": {
   "codemirror_mode": {
    "name": "ipython",
    "version": 3
   },
   "file_extension": ".py",
   "mimetype": "text/x-python",
   "name": "python",
   "nbconvert_exporter": "python",
   "pygments_lexer": "ipython3",
   "version": "3.6.4-final"
  }
 },
 "nbformat": 4,
 "nbformat_minor": 2
}