{
 "cells": [
  {
   "cell_type": "code",
   "execution_count": null,
   "metadata": {},
   "outputs": [],
   "source": [
    "import sys\n",
    "sys.path.insert(0, '..')"
   ]
  },
  {
   "cell_type": "code",
   "execution_count": null,
   "metadata": {},
   "outputs": [],
   "source": [
    "%matplotlib inline\n",
    "import matplotlib\n",
    "matplotlib.use('agg')\n",
    "from scipy.io import loadmat\n",
    "from os.path import basename\n",
    "import numpy as np\n",
    "from scipy import ndimage\n",
    "import matplotlib.pyplot as plt\n",
    "from pymr.heart import ahaseg"
   ]
  },
  {
   "cell_type": "code",
   "execution_count": null,
   "metadata": {},
   "outputs": [],
   "source": [
    "import nibabel\n",
    "\n",
    "heart = nibabel.load(r\"E:\\OpenDataset\\Testing\\A1K2P5\\A1K2P5_sa_gt.nii.gz\").get_fdata()"
   ]
  },
  {
   "cell_type": "code",
   "execution_count": null,
   "metadata": {},
   "outputs": [],
   "source": [
    "from pymr.heart import motion"
   ]
  },
  {
   "cell_type": "code",
   "execution_count": null,
   "metadata": {},
   "outputs": [],
   "source": [
    "heart.sum(axis=(0,1,2)).argsort()[::-1]"
   ]
  },
  {
   "cell_type": "code",
   "execution_count": null,
   "metadata": {},
   "outputs": [],
   "source": [
    "heart_crop, _ = motion.auto_crop(heart)\n",
    "motion_map_list = []\n",
    "for ii in range(heart_crop.shape[2]):\n",
    "    print(ii)\n",
    "    heart_mask = heart_crop[..., ii, :]\n",
    "    motion_vector, motion_map = motion.motion_ana_xyt(heart_mask, nseg=6, display=True)\n",
    "    if np.sum(motion_map)==0:\n",
    "        continue\n",
    "    motion_map_list.append(motion_map)\n",
    "\n",
    "plt.figure(figsize=(30,5))\n",
    "plt.imshow(np.hstack(motion_map_list))\n",
    "plt.axis('off')\n"
   ]
  },
  {
   "cell_type": "code",
   "execution_count": null,
   "metadata": {},
   "outputs": [],
   "source": [
    "from pymr.heart import cine\n",
    "test = cine.convert(r\"E:\\OpenDataset\\Testing\\A1K2P5\\A1K2P5_sa_gt.nii.gz\", r\"c:\\temp\")"
   ]
  },
  {
   "cell_type": "code",
   "execution_count": null,
   "metadata": {},
   "outputs": [],
   "source": [
    "test, sys_frame, dia_frame = cine.convert(heart)"
   ]
  }
 ],
 "metadata": {
  "kernelspec": {
   "name": "Python 3.6.7 64-bit",
   "display_name": "Python 3.6.7 64-bit",
   "metadata": {
    "interpreter": {
     "hash": "1d058f194ad376a76cb5064c4bf3ec6b4c194b847a9cdaa4898abbfd20ebc75a"
    }
   }
  },
  "language_info": {
   "codemirror_mode": {
    "name": "ipython",
    "version": 3
   },
   "file_extension": ".py",
   "mimetype": "text/x-python",
   "name": "python",
   "nbconvert_exporter": "python",
   "pygments_lexer": "ipython3",
   "version": "3.6.7-final"
  }
 },
 "nbformat": 4,
 "nbformat_minor": 2
}